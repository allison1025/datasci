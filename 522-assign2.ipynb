{
 "cells": [
  {
   "cell_type": "markdown",
   "metadata": {},
   "source": [
    "Before you turn this problem in, make sure everything runs as expected. First, **restart the kernel** (in the menubar, select Kernel$\\rightarrow$Restart) and then **run all cells** (in the menubar, select Cell$\\rightarrow$Run All). Make sure your notebook executed to the end.\n",
    "\n",
    "Make sure you fill in any place that says `YOUR CODE HERE` or \"YOUR ANSWER HERE.\" Please remember that homeworks are to be completed independently. You may not share code with others."
   ]
  },
  {
   "cell_type": "code",
   "execution_count": 35,
   "metadata": {},
   "outputs": [],
   "source": [
    "NAME = \"Allison Yih\""
   ]
  },
  {
   "cell_type": "markdown",
   "metadata": {},
   "source": [
    "---"
   ]
  },
  {
   "cell_type": "markdown",
   "metadata": {},
   "source": [
    "# Information Visualization I \n",
    "## School of Information, University of Michigan\n",
    "\n",
    "## Week 2: \n",
    "- Expressiveness and Effectiveness\n",
    "- Grammar of Graphics\n",
    "\n",
    "## Assignment Overview\n",
    "### Our objectives for this week:\n",
    "\n",
    "- Review, reflect, and apply the concepts of encoding. Given a visualization recreate the data that was encoded.\n",
    "- Review, reflect, and apply the concepts of Expressiveness and Effectiveness. Given a visualization, evaluate alternatives with the same expressiveness.\n",
    "\n",
    "![\"Drawing\"](assets/data-table-resized.png)\n",
    "\n",
    "\n",
    "<p style=\"text-align: center;\">Two visualizations, same expressiveness </p>\n",
    "\n",
    "- Review and evaluate an implementation of Grammar of Graphics using [Altair](https://altair-viz.github.io/) \n",
    "\n",
    "### The total score of this assignment will be 100 points consisting of:\n",
    "- Case study reflection: Next Bechdel Test (30 points)\n",
    "- Altair programming exercise (70 points)\n",
    "- Bonus (5 points)\n",
    "\n",
    "\n",
    "### Resources:\n",
    "- This article by [FiveThirtyEight](https://fivethirtyeight.com) available [online](https://projects.fivethirtyeight.com/next-bechdel/) (Hickey, Koeze, Dottle, Wezerek 2017)  \n",
    "- Datasets from FiveThirtyEight, we have downloaded a subset of these datasets available in the folder for your use into [./assets](./assets)\n",
    "    - The original dataset can be found on [FiveThirtyEight Next Bechdel Dataset](https://github.com/fivethirtyeight/data/tree/master/next-bechdel)\n",
    "    \n",
    "    \n",
    "### Important notes:\n",
    "1) Grading for this assignment is largely done by manual inspection. The autograder checks the basic details but is imperfect. Sometimes it will pass the test but not look right, sometimes it will look right and fail the test. That's fine! You should guide your answer by the look of our examples. It doesn't need to be pixel perfect (e.g., you may not always know what our example is scaled by), but it should be pretty close.\n",
    "\n",
    "2) When turning in your PDF, please use the File -> Print -> Save as PDF option ***from your browser***. Do ***not*** use the File->Download as->PDF option. Complete instructions for this are under Resources in the Coursera page for this class.\n",
    "\n",
    "3) Pay attention to the return types of your functions. "
   ]
  },
  {
   "cell_type": "markdown",
   "metadata": {},
   "source": [
    "## Part 1. Expressiveness and Effectiveness (30 points)\n",
    "Read the following article [*Creating the next Bechdel Test*](https://projects.fivethirtyeight.com/next-bechdel/) and answer the following questions:\n"
   ]
  },
  {
   "cell_type": "markdown",
   "metadata": {},
   "source": [
    "### 1.1 Recreate the table (by hand or excel) needed to create the following visualization (7 points)\n",
    "\n",
    "You *should* consider the interactive parts of the visualization in your answer. Take a picture or screenshot of your table and add it to the answer below\n",
    "\n",
    "![\"Drawing\"](assets/article_1.png)\n",
    "\n",
    "\n",
    "An easy way to upload images is to jump into the [./assets](./assets) directory (or use the Coursera notebook explorer and navigate to it) and then use the upload button to save your image:\n",
    "\n",
    "![upload](assets/upload.png)\n",
    "\n",
    "Once you have the image, you can link to it using the markdown command: `![answer1.2](assets/my_image_1.2.png)`"
   ]
  },
  {
   "cell_type": "markdown",
   "metadata": {
    "deletable": false,
    "nbgrader": {
     "checksum": "91ea6cc6efb45e855a4f141dab85c3a3",
     "grade": true,
     "grade_id": "cell-20290d73f12b3f9f",
     "locked": false,
     "points": 0,
     "schema_version": 1,
     "solution": true
    }
   },
   "source": [
    "![answer1.1](assets/1.1_img.png)"
   ]
  },
  {
   "cell_type": "markdown",
   "metadata": {},
   "source": [
    "### 1.2 Sketch an alternative visualization with the same expressiveness (7 points)\n",
    "By hand is fine, but you can also use a tool. This is a sketch, the data need not be perfectly accurate or to scale. Again, upload a picture or screenshot below. Make sure there is enough annotation so it's clear why your picture has the same expressiveness."
   ]
  },
  {
   "cell_type": "markdown",
   "metadata": {
    "deletable": false,
    "nbgrader": {
     "checksum": "c2bd64e98ff1e94679857bbae395f3f8",
     "grade": true,
     "grade_id": "cell-818150fc326a93bd",
     "locked": false,
     "points": 0,
     "schema_version": 1,
     "solution": true
    }
   },
   "source": [
    "![answer1.2](assets/1.2_img.png)"
   ]
  },
  {
   "cell_type": "markdown",
   "metadata": {},
   "source": [
    "### 1.3 Sketch an alternative visualization with the same expressiveness of the following visualization (10 points)\n",
    "\n",
    "![\"article\"](assets/article_2_resized.png)\n",
    "\n",
    "\n",
    "Same deal as last question: by hand or with a tool is fine. The data need not be perfectly accurate or to scale. Make sure there is enough annotation so it's clear why your picture has the same expressiveness. Again, upload a picture or screenshot below. "
   ]
  },
  {
   "cell_type": "markdown",
   "metadata": {
    "deletable": false,
    "nbgrader": {
     "checksum": "ad987ed052e361e442f1355c036285da",
     "grade": true,
     "grade_id": "cell-308f4bbbe330bcc3",
     "locked": false,
     "points": 0,
     "schema_version": 1,
     "solution": true
    }
   },
   "source": [
    "![answer1.3](assets/1.3-img.png)"
   ]
  },
  {
   "cell_type": "markdown",
   "metadata": {},
   "source": [
    "### 1.4 Reflect on which visualization you think is more *effective* and why? (6 points)\n",
    "You are comparing the original figure in 1.3 and the one you created."
   ]
  },
  {
   "cell_type": "markdown",
   "metadata": {
    "deletable": false,
    "nbgrader": {
     "checksum": "404c7b60173ff29336f18e5c0f678090",
     "grade": true,
     "grade_id": "cell-53c80be72ac1b53e",
     "locked": false,
     "points": 0,
     "schema_version": 1,
     "solution": true
    }
   },
   "source": [
    "The original figure is more effective because it shows how many tests each movie passed per row, and does this in descending order, which shows us which movies scored higher across all of the different tests. Compared to the figure from the article, mine shows a bar chart comparing the number of tests each movie passes, which is ordered by descending order. If I were to do this for all of the 50 movies, it would have looked lengthier and have results displayed less concisely than the original figure. Therefore, the original visualization is more effective, as it gets the main point of which movie scored the best for the different tests overall in a much more organized way. "
   ]
  },
  {
   "cell_type": "markdown",
   "metadata": {},
   "source": [
    "## Part 2. Altair programming exercise (70 points)\n",
    "We have provided some code to create visualizations based on the following datasets:\n",
    "\n",
    "1. [all_tests](assets/nextBechdel_allTests.csv) Is a collection of different Bechdel test results for the 50 top-grossing films [at the domestic box office in 2016](https://www.the-numbers.com/box-office-records/domestic/all-movies/cumulative/released-in-2016)\n",
    "2. [cast_gender](assets/nextBechdel_castGender.csv) Is the gender for all the cast member of each movie in the Bechdel rankings\n",
    "3. [top_2016](assets/top_2016.csv) Is the date, box office and theater count for each top 2016 movie.\n",
    "\n",
    "Complete each assignment function and run each cell to generate the final visualizations\n"
   ]
  },
  {
   "cell_type": "code",
   "execution_count": 36,
   "metadata": {},
   "outputs": [],
   "source": [
    "import pandas as pd\n",
    "import numpy as np\n",
    "import altair as alt"
   ]
  },
  {
   "cell_type": "code",
   "execution_count": 37,
   "metadata": {},
   "outputs": [
    {
     "data": {
      "text/plain": [
       "RendererRegistry.enable('default')"
      ]
     },
     "execution_count": 37,
     "metadata": {},
     "output_type": "execute_result"
    }
   ],
   "source": [
    "# enable correct rendering\n",
    "alt.renderers.enable('default')"
   ]
  },
  {
   "cell_type": "code",
   "execution_count": 38,
   "metadata": {},
   "outputs": [
    {
     "data": {
      "text/plain": [
       "DataTransformerRegistry.enable('json')"
      ]
     },
     "execution_count": 38,
     "metadata": {},
     "output_type": "execute_result"
    }
   ],
   "source": [
    "# uses intermediate json files to speed things up\n",
    "alt.data_transformers.enable('json')"
   ]
  },
  {
   "cell_type": "code",
   "execution_count": 39,
   "metadata": {},
   "outputs": [],
   "source": [
    "# read all the tables\n",
    "all_tests_df = pd.read_csv('assets/nextBechdel_allTests.csv')\n",
    "cast_gender = pd.read_csv('assets/nextBechdel_castGender.csv')\n",
    "top_2016 = pd.read_csv('assets/top_2016.csv')"
   ]
  },
  {
   "cell_type": "code",
   "execution_count": 40,
   "metadata": {},
   "outputs": [],
   "source": [
    "# set up the tables for use\n",
    "actors_movies = top_2016.set_index('Movie').join(cast_gender.set_index('MOVIE')).join(all_tests_df.set_index('movie')).reset_index().dropna()\n",
    "movies_order = top_2016.sort_values(by=['Rank'])['Movie'].tolist()"
   ]
  },
  {
   "cell_type": "code",
   "execution_count": 41,
   "metadata": {},
   "outputs": [
    {
     "data": {
      "text/html": [
       "<div>\n",
       "<style scoped>\n",
       "    .dataframe tbody tr th:only-of-type {\n",
       "        vertical-align: middle;\n",
       "    }\n",
       "\n",
       "    .dataframe tbody tr th {\n",
       "        vertical-align: top;\n",
       "    }\n",
       "\n",
       "    .dataframe thead th {\n",
       "        text-align: right;\n",
       "    }\n",
       "</style>\n",
       "<table border=\"1\" class=\"dataframe\">\n",
       "  <thead>\n",
       "    <tr style=\"text-align: right;\">\n",
       "      <th></th>\n",
       "      <th>index</th>\n",
       "      <th>Rank</th>\n",
       "      <th>Domestic Box Office</th>\n",
       "      <th>Opening Theater Count</th>\n",
       "      <th>Opening Weekend Box Office</th>\n",
       "      <th>Max Theater Count</th>\n",
       "      <th>ACTOR</th>\n",
       "      <th>CHARACTER_NAME</th>\n",
       "      <th>TYPE</th>\n",
       "      <th>BILLING</th>\n",
       "      <th>...</th>\n",
       "      <th>feldman</th>\n",
       "      <th>villareal</th>\n",
       "      <th>hagen</th>\n",
       "      <th>ko</th>\n",
       "      <th>villarobos</th>\n",
       "      <th>waithe</th>\n",
       "      <th>koeze_dottle</th>\n",
       "      <th>uphold</th>\n",
       "      <th>white</th>\n",
       "      <th>rees-davies</th>\n",
       "    </tr>\n",
       "  </thead>\n",
       "  <tbody>\n",
       "    <tr>\n",
       "      <th>0</th>\n",
       "      <td>10 Cloverfield Lane</td>\n",
       "      <td>44</td>\n",
       "      <td>$72,082,999</td>\n",
       "      <td>3,391</td>\n",
       "      <td>$24,727,437</td>\n",
       "      <td>3,427</td>\n",
       "      <td>John Goodman</td>\n",
       "      <td>Howard</td>\n",
       "      <td>Leading</td>\n",
       "      <td>1</td>\n",
       "      <td>...</td>\n",
       "      <td>1</td>\n",
       "      <td>0</td>\n",
       "      <td>1</td>\n",
       "      <td>1</td>\n",
       "      <td>1</td>\n",
       "      <td>1</td>\n",
       "      <td>1</td>\n",
       "      <td>1</td>\n",
       "      <td>1</td>\n",
       "      <td>1</td>\n",
       "    </tr>\n",
       "    <tr>\n",
       "      <th>1</th>\n",
       "      <td>10 Cloverfield Lane</td>\n",
       "      <td>44</td>\n",
       "      <td>$72,082,999</td>\n",
       "      <td>3,391</td>\n",
       "      <td>$24,727,437</td>\n",
       "      <td>3,427</td>\n",
       "      <td>Mary Elizabeth Winstead</td>\n",
       "      <td>Michelle</td>\n",
       "      <td>Leading</td>\n",
       "      <td>2</td>\n",
       "      <td>...</td>\n",
       "      <td>1</td>\n",
       "      <td>0</td>\n",
       "      <td>1</td>\n",
       "      <td>1</td>\n",
       "      <td>1</td>\n",
       "      <td>1</td>\n",
       "      <td>1</td>\n",
       "      <td>1</td>\n",
       "      <td>1</td>\n",
       "      <td>1</td>\n",
       "    </tr>\n",
       "    <tr>\n",
       "      <th>2</th>\n",
       "      <td>10 Cloverfield Lane</td>\n",
       "      <td>44</td>\n",
       "      <td>$72,082,999</td>\n",
       "      <td>3,391</td>\n",
       "      <td>$24,727,437</td>\n",
       "      <td>3,427</td>\n",
       "      <td>John Gallagher, Jr.</td>\n",
       "      <td>Emmitt</td>\n",
       "      <td>Leading</td>\n",
       "      <td>3</td>\n",
       "      <td>...</td>\n",
       "      <td>1</td>\n",
       "      <td>0</td>\n",
       "      <td>1</td>\n",
       "      <td>1</td>\n",
       "      <td>1</td>\n",
       "      <td>1</td>\n",
       "      <td>1</td>\n",
       "      <td>1</td>\n",
       "      <td>1</td>\n",
       "      <td>1</td>\n",
       "    </tr>\n",
       "    <tr>\n",
       "      <th>3</th>\n",
       "      <td>10 Cloverfield Lane</td>\n",
       "      <td>44</td>\n",
       "      <td>$72,082,999</td>\n",
       "      <td>3,391</td>\n",
       "      <td>$24,727,437</td>\n",
       "      <td>3,427</td>\n",
       "      <td>Mat Vairo</td>\n",
       "      <td>Jeremy</td>\n",
       "      <td>Supporting</td>\n",
       "      <td>4</td>\n",
       "      <td>...</td>\n",
       "      <td>1</td>\n",
       "      <td>0</td>\n",
       "      <td>1</td>\n",
       "      <td>1</td>\n",
       "      <td>1</td>\n",
       "      <td>1</td>\n",
       "      <td>1</td>\n",
       "      <td>1</td>\n",
       "      <td>1</td>\n",
       "      <td>1</td>\n",
       "    </tr>\n",
       "    <tr>\n",
       "      <th>4</th>\n",
       "      <td>10 Cloverfield Lane</td>\n",
       "      <td>44</td>\n",
       "      <td>$72,082,999</td>\n",
       "      <td>3,391</td>\n",
       "      <td>$24,727,437</td>\n",
       "      <td>3,427</td>\n",
       "      <td>Maya Erskine</td>\n",
       "      <td>Darcy</td>\n",
       "      <td>Supporting</td>\n",
       "      <td>5</td>\n",
       "      <td>...</td>\n",
       "      <td>1</td>\n",
       "      <td>0</td>\n",
       "      <td>1</td>\n",
       "      <td>1</td>\n",
       "      <td>1</td>\n",
       "      <td>1</td>\n",
       "      <td>1</td>\n",
       "      <td>1</td>\n",
       "      <td>1</td>\n",
       "      <td>1</td>\n",
       "    </tr>\n",
       "    <tr>\n",
       "      <th>...</th>\n",
       "      <td>...</td>\n",
       "      <td>...</td>\n",
       "      <td>...</td>\n",
       "      <td>...</td>\n",
       "      <td>...</td>\n",
       "      <td>...</td>\n",
       "      <td>...</td>\n",
       "      <td>...</td>\n",
       "      <td>...</td>\n",
       "      <td>...</td>\n",
       "      <td>...</td>\n",
       "      <td>...</td>\n",
       "      <td>...</td>\n",
       "      <td>...</td>\n",
       "      <td>...</td>\n",
       "      <td>...</td>\n",
       "      <td>...</td>\n",
       "      <td>...</td>\n",
       "      <td>...</td>\n",
       "      <td>...</td>\n",
       "      <td>...</td>\n",
       "    </tr>\n",
       "    <tr>\n",
       "      <th>2070</th>\n",
       "      <td>Zootopia</td>\n",
       "      <td>7</td>\n",
       "      <td>$341,268,248</td>\n",
       "      <td>3,827</td>\n",
       "      <td>$75,063,401</td>\n",
       "      <td>3,959</td>\n",
       "      <td>Byron Howard</td>\n",
       "      <td>Bucky Oryx-Antlerson</td>\n",
       "      <td>Supporting</td>\n",
       "      <td>28</td>\n",
       "      <td>...</td>\n",
       "      <td>1</td>\n",
       "      <td>0</td>\n",
       "      <td>1</td>\n",
       "      <td>1</td>\n",
       "      <td>1</td>\n",
       "      <td>1</td>\n",
       "      <td>1</td>\n",
       "      <td>1</td>\n",
       "      <td>1</td>\n",
       "      <td>1</td>\n",
       "    </tr>\n",
       "    <tr>\n",
       "      <th>2071</th>\n",
       "      <td>Zootopia</td>\n",
       "      <td>7</td>\n",
       "      <td>$341,268,248</td>\n",
       "      <td>3,827</td>\n",
       "      <td>$75,063,401</td>\n",
       "      <td>3,959</td>\n",
       "      <td>Mark 'Rhino' Smith</td>\n",
       "      <td>Officer McHorn</td>\n",
       "      <td>Supporting</td>\n",
       "      <td>29</td>\n",
       "      <td>...</td>\n",
       "      <td>1</td>\n",
       "      <td>0</td>\n",
       "      <td>1</td>\n",
       "      <td>1</td>\n",
       "      <td>1</td>\n",
       "      <td>1</td>\n",
       "      <td>1</td>\n",
       "      <td>1</td>\n",
       "      <td>1</td>\n",
       "      <td>1</td>\n",
       "    </tr>\n",
       "    <tr>\n",
       "      <th>2072</th>\n",
       "      <td>Zootopia</td>\n",
       "      <td>7</td>\n",
       "      <td>$341,268,248</td>\n",
       "      <td>3,827</td>\n",
       "      <td>$75,063,401</td>\n",
       "      <td>3,959</td>\n",
       "      <td>Jared Bush</td>\n",
       "      <td>Pronk Onyx-Antlerson</td>\n",
       "      <td>Supporting</td>\n",
       "      <td>30</td>\n",
       "      <td>...</td>\n",
       "      <td>1</td>\n",
       "      <td>0</td>\n",
       "      <td>1</td>\n",
       "      <td>1</td>\n",
       "      <td>1</td>\n",
       "      <td>1</td>\n",
       "      <td>1</td>\n",
       "      <td>1</td>\n",
       "      <td>1</td>\n",
       "      <td>1</td>\n",
       "    </tr>\n",
       "    <tr>\n",
       "      <th>2073</th>\n",
       "      <td>Zootopia</td>\n",
       "      <td>7</td>\n",
       "      <td>$341,268,248</td>\n",
       "      <td>3,827</td>\n",
       "      <td>$75,063,401</td>\n",
       "      <td>3,959</td>\n",
       "      <td>John Lavelle</td>\n",
       "      <td>Mouse Foreman</td>\n",
       "      <td>Supporting</td>\n",
       "      <td>31</td>\n",
       "      <td>...</td>\n",
       "      <td>1</td>\n",
       "      <td>0</td>\n",
       "      <td>1</td>\n",
       "      <td>1</td>\n",
       "      <td>1</td>\n",
       "      <td>1</td>\n",
       "      <td>1</td>\n",
       "      <td>1</td>\n",
       "      <td>1</td>\n",
       "      <td>1</td>\n",
       "    </tr>\n",
       "    <tr>\n",
       "      <th>2074</th>\n",
       "      <td>Zootopia</td>\n",
       "      <td>7</td>\n",
       "      <td>$341,268,248</td>\n",
       "      <td>3,827</td>\n",
       "      <td>$75,063,401</td>\n",
       "      <td>3,959</td>\n",
       "      <td>Josie Trinidad</td>\n",
       "      <td>Landlady</td>\n",
       "      <td>Supporting</td>\n",
       "      <td>32</td>\n",
       "      <td>...</td>\n",
       "      <td>1</td>\n",
       "      <td>0</td>\n",
       "      <td>1</td>\n",
       "      <td>1</td>\n",
       "      <td>1</td>\n",
       "      <td>1</td>\n",
       "      <td>1</td>\n",
       "      <td>1</td>\n",
       "      <td>1</td>\n",
       "      <td>1</td>\n",
       "    </tr>\n",
       "  </tbody>\n",
       "</table>\n",
       "<p>2075 rows × 24 columns</p>\n",
       "</div>"
      ],
      "text/plain": [
       "                    index  Rank Domestic Box Office Opening Theater Count  \\\n",
       "0     10 Cloverfield Lane    44        $72,082,999                  3,391   \n",
       "1     10 Cloverfield Lane    44        $72,082,999                  3,391   \n",
       "2     10 Cloverfield Lane    44        $72,082,999                  3,391   \n",
       "3     10 Cloverfield Lane    44        $72,082,999                  3,391   \n",
       "4     10 Cloverfield Lane    44        $72,082,999                  3,391   \n",
       "...                   ...   ...                 ...                   ...   \n",
       "2070             Zootopia     7       $341,268,248                  3,827   \n",
       "2071             Zootopia     7       $341,268,248                  3,827   \n",
       "2072             Zootopia     7       $341,268,248                  3,827   \n",
       "2073             Zootopia     7       $341,268,248                  3,827   \n",
       "2074             Zootopia     7       $341,268,248                  3,827   \n",
       "\n",
       "     Opening Weekend Box Office Max Theater Count                    ACTOR  \\\n",
       "0                  $24,727,437              3,427             John Goodman   \n",
       "1                  $24,727,437              3,427  Mary Elizabeth Winstead   \n",
       "2                  $24,727,437              3,427      John Gallagher, Jr.   \n",
       "3                  $24,727,437              3,427                Mat Vairo   \n",
       "4                  $24,727,437              3,427             Maya Erskine   \n",
       "...                         ...               ...                      ...   \n",
       "2070               $75,063,401              3,959             Byron Howard   \n",
       "2071               $75,063,401              3,959       Mark 'Rhino' Smith   \n",
       "2072               $75,063,401              3,959               Jared Bush   \n",
       "2073               $75,063,401              3,959             John Lavelle   \n",
       "2074               $75,063,401              3,959           Josie Trinidad   \n",
       "\n",
       "            CHARACTER_NAME        TYPE BILLING  ... feldman  villareal  hagen  \\\n",
       "0                   Howard     Leading       1  ...       1          0      1   \n",
       "1                 Michelle     Leading       2  ...       1          0      1   \n",
       "2                   Emmitt     Leading       3  ...       1          0      1   \n",
       "3                   Jeremy  Supporting       4  ...       1          0      1   \n",
       "4                    Darcy  Supporting       5  ...       1          0      1   \n",
       "...                    ...         ...     ...  ...     ...        ...    ...   \n",
       "2070  Bucky Oryx-Antlerson  Supporting      28  ...       1          0      1   \n",
       "2071        Officer McHorn  Supporting      29  ...       1          0      1   \n",
       "2072  Pronk Onyx-Antlerson  Supporting      30  ...       1          0      1   \n",
       "2073         Mouse Foreman  Supporting      31  ...       1          0      1   \n",
       "2074              Landlady  Supporting      32  ...       1          0      1   \n",
       "\n",
       "      ko  villarobos  waithe  koeze_dottle  uphold  white  rees-davies  \n",
       "0      1           1       1             1       1      1            1  \n",
       "1      1           1       1             1       1      1            1  \n",
       "2      1           1       1             1       1      1            1  \n",
       "3      1           1       1             1       1      1            1  \n",
       "4      1           1       1             1       1      1            1  \n",
       "...   ..         ...     ...           ...     ...    ...          ...  \n",
       "2070   1           1       1             1       1      1            1  \n",
       "2071   1           1       1             1       1      1            1  \n",
       "2072   1           1       1             1       1      1            1  \n",
       "2073   1           1       1             1       1      1            1  \n",
       "2074   1           1       1             1       1      1            1  \n",
       "\n",
       "[2075 rows x 24 columns]"
      ]
     },
     "execution_count": 41,
     "metadata": {},
     "output_type": "execute_result"
    }
   ],
   "source": [
    "actors_movies"
   ]
  },
  {
   "cell_type": "markdown",
   "metadata": {},
   "source": [
    "### 2.1 Variables encoded (5 points)\n",
    "Warmup: complete the `variables_encoded` function.\n",
    "Return the number of variables encoded in the following example"
   ]
  },
  {
   "cell_type": "code",
   "execution_count": 42,
   "metadata": {},
   "outputs": [],
   "source": [
    "base = alt.Chart(actors_movies).transform_filter(\n",
    "    (alt.datum.TYPE != 'Unknown') & (alt.datum.GENDER != 'Unknown') & (alt.datum.GENDER != 'null')\n",
    ")"
   ]
  },
  {
   "cell_type": "code",
   "execution_count": 43,
   "metadata": {},
   "outputs": [],
   "source": [
    "encoding = base.transform_filter(\n",
    "    alt.datum.GENDER == 'Female'\n",
    ").encode(\n",
    "    y= alt.Y(\n",
    "        'index:N',\n",
    "        sort= movies_order\n",
    "    ),\n",
    "    x=alt.X('count(index):Q',\n",
    "            title='cast count'),\n",
    ")\n",
    "\n",
    "def m_bar():\n",
    "    return encoding.mark_bar().properties(title='Female')\n",
    "\n",
    "bar = m_bar()"
   ]
  },
  {
   "cell_type": "code",
   "execution_count": 44,
   "metadata": {},
   "outputs": [
    {
     "data": {
      "text/html": [
       "\n",
       "<div id=\"altair-viz-3a77ab062e794ceaaceb9e3a3d0fc812\"></div>\n",
       "<script type=\"text/javascript\">\n",
       "  (function(spec, embedOpt){\n",
       "    const outputDiv = document.getElementById(\"altair-viz-3a77ab062e794ceaaceb9e3a3d0fc812\");\n",
       "    const paths = {\n",
       "      \"vega\": \"https://cdn.jsdelivr.net/npm//vega@5?noext\",\n",
       "      \"vega-lib\": \"https://cdn.jsdelivr.net/npm//vega-lib?noext\",\n",
       "      \"vega-lite\": \"https://cdn.jsdelivr.net/npm//vega-lite@4.0.2?noext\",\n",
       "      \"vega-embed\": \"https://cdn.jsdelivr.net/npm//vega-embed@6?noext\",\n",
       "    };\n",
       "\n",
       "    function loadScript(lib) {\n",
       "      return new Promise(function(resolve, reject) {\n",
       "        var s = document.createElement('script');\n",
       "        s.src = paths[lib];\n",
       "        s.async = true;\n",
       "        s.onload = () => resolve(paths[lib]);\n",
       "        s.onerror = () => reject(`Error loading script: ${paths[lib]}`);\n",
       "        document.getElementsByTagName(\"head\")[0].appendChild(s);\n",
       "      });\n",
       "    }\n",
       "\n",
       "    function showError(err) {\n",
       "      outputDiv.innerHTML = `<div class=\"error\" style=\"color:red;\">${err}</div>`;\n",
       "      throw err;\n",
       "    }\n",
       "\n",
       "    function displayChart(vegaEmbed) {\n",
       "      vegaEmbed(outputDiv, spec, embedOpt)\n",
       "        .catch(err => showError(`Javascript Error: ${err.message}<br>This usually means there's a typo in your chart specification. See the javascript console for the full traceback.`));\n",
       "    }\n",
       "\n",
       "    if(typeof define === \"function\" && define.amd) {\n",
       "      requirejs.config({paths});\n",
       "      require([\"vega-embed\"], displayChart, err => showError(`Error loading script: ${err.message}`));\n",
       "    } else if (typeof vegaEmbed === \"function\") {\n",
       "      displayChart(vegaEmbed);\n",
       "    } else {\n",
       "      loadScript(\"vega\")\n",
       "        .then(() => loadScript(\"vega-lite\"))\n",
       "        .then(() => loadScript(\"vega-embed\"))\n",
       "        .catch(showError)\n",
       "        .then(() => displayChart(vegaEmbed));\n",
       "    }\n",
       "  })({\"config\": {\"view\": {\"continuousWidth\": 400, \"continuousHeight\": 300}}, \"data\": {\"url\": \"altair-data-b2fe8fb5616f2f0ec61f01d320bf8001.json\", \"format\": {\"type\": \"json\"}}, \"mark\": \"bar\", \"encoding\": {\"x\": {\"type\": \"quantitative\", \"aggregate\": \"count\", \"field\": \"index\", \"title\": \"cast count\"}, \"y\": {\"type\": \"nominal\", \"field\": \"index\", \"sort\": [\"Rogue One\", \"Finding Dory\", \"Captain America: Civil War\", \"The Secret Life of Pets\", \"The Jungle Book\", \"Deadpool\", \"Zootopia\", \"Batman v Superman: Dawn of Justice\", \"Suicide Squad\", \"Sing\", \"Moana\", \"Fantastic Beasts and Where to Find Them\", \"Doctor Strange\", \"Hidden Figures\", \"Jason Bourne\", \"Star Trek Beyond\", \"X-Men: Apocalypse\", \"Trolls\", \"La La Land\", \"Kung Fu Panda 3\", \"Ghostbusters\", \"Central Intelligence\", \"The Legend of Tarzan\", \"Sully\", \"Bad Moms\", \"The Angry Birds Movie\", \"Independence Day: Resurgence\", \"The Conjuring 2\", \"Arrival\", \"Passengers\", \"Sausage Party\", \"The Magnificent Seven\", \"Ride Along 2\", \"Don't Breathe\", \"Miss Peregrine's Home for Peculiar Children\", \"The Accountant\", \"Teenage Mutant Ninja Turtles: Out of the Shadows\", \"The Purge: Election Year\", \"Alice Through the Looking Glass\", \"Pete's Dragon\", \"The Girl on the Train\", \"Boo! A Madea Halloween\", \"Storks\", \"10 Cloverfield Lane\", \"Lights Out\", \"Hacksaw Ridge\", \"Allegiant\", \"Now You See Me 2\", \"Ice Age: Collision Course\", \"The Boss\"]}}, \"title\": \"Female\", \"transform\": [{\"filter\": \"(((datum.TYPE !== 'Unknown') && (datum.GENDER !== 'Unknown')) && (datum.GENDER !== 'null'))\"}, {\"filter\": \"(datum.GENDER === 'Female')\"}], \"$schema\": \"https://vega.github.io/schema/vega-lite/v4.0.2.json\"}, {\"mode\": \"vega-lite\"});\n",
       "</script>"
      ],
      "text/plain": [
       "alt.Chart(...)"
      ]
     },
     "execution_count": 44,
     "metadata": {},
     "output_type": "execute_result"
    }
   ],
   "source": [
    "bar"
   ]
  },
  {
   "cell_type": "code",
   "execution_count": 45,
   "metadata": {
    "deletable": false,
    "nbgrader": {
     "checksum": "29c1a83d9d996688c2c423cad81dd7ea",
     "grade": false,
     "grade_id": "variables_encoded",
     "locked": false,
     "schema_version": 1,
     "solution": true
    }
   },
   "outputs": [],
   "source": [
    "def variables_encoded():\n",
    "    \"\"\"\n",
    "    This is a helper function for automated grading, just return the number (e.g., 'return 50000;'). You don't\n",
    "    need to do anything fancy here.\n",
    "    \"\"\"\n",
    "    # YOUR CODE HERE\n",
    "    return 2\n",
    "   # raise NotImplementedError()"
   ]
  },
  {
   "cell_type": "code",
   "execution_count": 46,
   "metadata": {
    "deletable": false,
    "editable": false,
    "nbgrader": {
     "checksum": "92bf91827a8977210399a1e86ae1f8b7",
     "grade": true,
     "grade_id": "variables_encoded_test",
     "locked": true,
     "points": 5,
     "schema_version": 1,
     "solution": false
    }
   },
   "outputs": [],
   "source": [
    "#hidden tests are within this cell"
   ]
  },
  {
   "cell_type": "markdown",
   "metadata": {},
   "source": [
    "### 2.2 Alternative encoding (5 points)\n",
    "Complete the `m_circle` function. Change the encoding used in the previous example from a bar to a circle. Your visualization should look like \n",
    "\n",
    "![\"Drawing\"](assets/alt_enc_1_resized.png)\n",
    "\n",
    "click [here](assets/alt_enc_1_resized_fullImage.png) to see the full-sized image."
   ]
  },
  {
   "cell_type": "code",
   "execution_count": 47,
   "metadata": {
    "deletable": false,
    "nbgrader": {
     "checksum": "201ca1e6fb35a43c20d4a415f857ab24",
     "grade": false,
     "grade_id": "m_circle",
     "locked": false,
     "schema_version": 1,
     "solution": true
    }
   },
   "outputs": [],
   "source": [
    "def m_circle():\n",
    "    \"\"\"\n",
    "    return the call to altair function that uses the circle mark for the variables encoded in the previous example \n",
    "    \"\"\"\n",
    "    # return encoding. (...)\n",
    "    return encoding.mark_circle()\n",
    "    # YOUR CODE HERE\n",
    "   # raise NotImplementedError()"
   ]
  },
  {
   "cell_type": "code",
   "execution_count": 48,
   "metadata": {},
   "outputs": [
    {
     "data": {
      "text/html": [
       "\n",
       "<div id=\"altair-viz-3a1514140eb14854981518ddc99303af\"></div>\n",
       "<script type=\"text/javascript\">\n",
       "  (function(spec, embedOpt){\n",
       "    const outputDiv = document.getElementById(\"altair-viz-3a1514140eb14854981518ddc99303af\");\n",
       "    const paths = {\n",
       "      \"vega\": \"https://cdn.jsdelivr.net/npm//vega@5?noext\",\n",
       "      \"vega-lib\": \"https://cdn.jsdelivr.net/npm//vega-lib?noext\",\n",
       "      \"vega-lite\": \"https://cdn.jsdelivr.net/npm//vega-lite@4.0.2?noext\",\n",
       "      \"vega-embed\": \"https://cdn.jsdelivr.net/npm//vega-embed@6?noext\",\n",
       "    };\n",
       "\n",
       "    function loadScript(lib) {\n",
       "      return new Promise(function(resolve, reject) {\n",
       "        var s = document.createElement('script');\n",
       "        s.src = paths[lib];\n",
       "        s.async = true;\n",
       "        s.onload = () => resolve(paths[lib]);\n",
       "        s.onerror = () => reject(`Error loading script: ${paths[lib]}`);\n",
       "        document.getElementsByTagName(\"head\")[0].appendChild(s);\n",
       "      });\n",
       "    }\n",
       "\n",
       "    function showError(err) {\n",
       "      outputDiv.innerHTML = `<div class=\"error\" style=\"color:red;\">${err}</div>`;\n",
       "      throw err;\n",
       "    }\n",
       "\n",
       "    function displayChart(vegaEmbed) {\n",
       "      vegaEmbed(outputDiv, spec, embedOpt)\n",
       "        .catch(err => showError(`Javascript Error: ${err.message}<br>This usually means there's a typo in your chart specification. See the javascript console for the full traceback.`));\n",
       "    }\n",
       "\n",
       "    if(typeof define === \"function\" && define.amd) {\n",
       "      requirejs.config({paths});\n",
       "      require([\"vega-embed\"], displayChart, err => showError(`Error loading script: ${err.message}`));\n",
       "    } else if (typeof vegaEmbed === \"function\") {\n",
       "      displayChart(vegaEmbed);\n",
       "    } else {\n",
       "      loadScript(\"vega\")\n",
       "        .then(() => loadScript(\"vega-lite\"))\n",
       "        .then(() => loadScript(\"vega-embed\"))\n",
       "        .catch(showError)\n",
       "        .then(() => displayChart(vegaEmbed));\n",
       "    }\n",
       "  })({\"config\": {\"view\": {\"continuousWidth\": 400, \"continuousHeight\": 300}}, \"data\": {\"url\": \"altair-data-b2fe8fb5616f2f0ec61f01d320bf8001.json\", \"format\": {\"type\": \"json\"}}, \"mark\": \"circle\", \"encoding\": {\"x\": {\"type\": \"quantitative\", \"aggregate\": \"count\", \"field\": \"index\", \"title\": \"cast count\"}, \"y\": {\"type\": \"nominal\", \"field\": \"index\", \"sort\": [\"Rogue One\", \"Finding Dory\", \"Captain America: Civil War\", \"The Secret Life of Pets\", \"The Jungle Book\", \"Deadpool\", \"Zootopia\", \"Batman v Superman: Dawn of Justice\", \"Suicide Squad\", \"Sing\", \"Moana\", \"Fantastic Beasts and Where to Find Them\", \"Doctor Strange\", \"Hidden Figures\", \"Jason Bourne\", \"Star Trek Beyond\", \"X-Men: Apocalypse\", \"Trolls\", \"La La Land\", \"Kung Fu Panda 3\", \"Ghostbusters\", \"Central Intelligence\", \"The Legend of Tarzan\", \"Sully\", \"Bad Moms\", \"The Angry Birds Movie\", \"Independence Day: Resurgence\", \"The Conjuring 2\", \"Arrival\", \"Passengers\", \"Sausage Party\", \"The Magnificent Seven\", \"Ride Along 2\", \"Don't Breathe\", \"Miss Peregrine's Home for Peculiar Children\", \"The Accountant\", \"Teenage Mutant Ninja Turtles: Out of the Shadows\", \"The Purge: Election Year\", \"Alice Through the Looking Glass\", \"Pete's Dragon\", \"The Girl on the Train\", \"Boo! A Madea Halloween\", \"Storks\", \"10 Cloverfield Lane\", \"Lights Out\", \"Hacksaw Ridge\", \"Allegiant\", \"Now You See Me 2\", \"Ice Age: Collision Course\", \"The Boss\"]}}, \"transform\": [{\"filter\": \"(((datum.TYPE !== 'Unknown') && (datum.GENDER !== 'Unknown')) && (datum.GENDER !== 'null'))\"}, {\"filter\": \"(datum.GENDER === 'Female')\"}], \"$schema\": \"https://vega.github.io/schema/vega-lite/v4.0.2.json\"}, {\"mode\": \"vega-lite\"});\n",
       "</script>"
      ],
      "text/plain": [
       "alt.Chart(...)"
      ]
     },
     "execution_count": 48,
     "metadata": {},
     "output_type": "execute_result"
    }
   ],
   "source": [
    "circle = m_circle()\n",
    "circle"
   ]
  },
  {
   "cell_type": "code",
   "execution_count": 49,
   "metadata": {
    "deletable": false,
    "editable": false,
    "nbgrader": {
     "checksum": "4110fded6798868f72b43bccdfdea1b5",
     "grade": true,
     "grade_id": "m_circle_test",
     "locked": true,
     "points": 5,
     "schema_version": 1,
     "solution": false
    }
   },
   "outputs": [],
   "source": [
    "#hidden tests are within this cell"
   ]
  },
  {
   "cell_type": "markdown",
   "metadata": {},
   "source": [
    "### 2.3 Increase variables encoded (5 points)\n",
    "Complete the `female_actors` function. Modify the first bar chart encoding the type of the actor with the color of the bar. Your visualization should look like the following (note that we don't have labels yet):\n",
    "![\"Drawing\"](assets/alt_enc_2_resized.png)\n",
    "\n",
    "click [here](assets/alt_enc_2_fullSize.png) to see the full-sized image.\n",
    "\n",
    "- _Partial credit can be granted for each visualization (up to 2 points) if you provide a description of what the missing piece of the function is supposed to do without need for an Altair working version_\n"
   ]
  },
  {
   "cell_type": "code",
   "execution_count": 50,
   "metadata": {
    "deletable": false,
    "nbgrader": {
     "checksum": "f1df22d7b0e264e9ea4e4b554a90e9ab",
     "grade": false,
     "grade_id": "female_actors",
     "locked": false,
     "schema_version": 1,
     "solution": true
    }
   },
   "outputs": [],
   "source": [
    "def female_actors():\n",
    "    \"\"\"\n",
    "    return the call to Altair function that uses the bar mark for the variables and the color for the TYPE \n",
    "    \"\"\"\n",
    "\n",
    "    \n",
    "    # this is the original chart, you should replace this code\n",
    "    encoding = base.encode(\n",
    "        y= alt.Y(\n",
    "            'index:N',\n",
    "            sort= movies_order\n",
    "        ),\n",
    "        x=alt.X('count(index):Q',\n",
    "                title='cast count'),\n",
    "        color = 'TYPE')# add color encoding\n",
    "    \n",
    "    \n",
    "    # YOUR CODE HERE\n",
    " #   raise NotImplementedError()\n",
    "  #  \n",
    "   \n",
    "    return encoding.mark_bar().properties(title='Female')"
   ]
  },
  {
   "cell_type": "code",
   "execution_count": 51,
   "metadata": {},
   "outputs": [
    {
     "data": {
      "text/html": [
       "\n",
       "<div id=\"altair-viz-fa697700cb634fc28a7f3abe0f9d9d03\"></div>\n",
       "<script type=\"text/javascript\">\n",
       "  (function(spec, embedOpt){\n",
       "    const outputDiv = document.getElementById(\"altair-viz-fa697700cb634fc28a7f3abe0f9d9d03\");\n",
       "    const paths = {\n",
       "      \"vega\": \"https://cdn.jsdelivr.net/npm//vega@5?noext\",\n",
       "      \"vega-lib\": \"https://cdn.jsdelivr.net/npm//vega-lib?noext\",\n",
       "      \"vega-lite\": \"https://cdn.jsdelivr.net/npm//vega-lite@4.0.2?noext\",\n",
       "      \"vega-embed\": \"https://cdn.jsdelivr.net/npm//vega-embed@6?noext\",\n",
       "    };\n",
       "\n",
       "    function loadScript(lib) {\n",
       "      return new Promise(function(resolve, reject) {\n",
       "        var s = document.createElement('script');\n",
       "        s.src = paths[lib];\n",
       "        s.async = true;\n",
       "        s.onload = () => resolve(paths[lib]);\n",
       "        s.onerror = () => reject(`Error loading script: ${paths[lib]}`);\n",
       "        document.getElementsByTagName(\"head\")[0].appendChild(s);\n",
       "      });\n",
       "    }\n",
       "\n",
       "    function showError(err) {\n",
       "      outputDiv.innerHTML = `<div class=\"error\" style=\"color:red;\">${err}</div>`;\n",
       "      throw err;\n",
       "    }\n",
       "\n",
       "    function displayChart(vegaEmbed) {\n",
       "      vegaEmbed(outputDiv, spec, embedOpt)\n",
       "        .catch(err => showError(`Javascript Error: ${err.message}<br>This usually means there's a typo in your chart specification. See the javascript console for the full traceback.`));\n",
       "    }\n",
       "\n",
       "    if(typeof define === \"function\" && define.amd) {\n",
       "      requirejs.config({paths});\n",
       "      require([\"vega-embed\"], displayChart, err => showError(`Error loading script: ${err.message}`));\n",
       "    } else if (typeof vegaEmbed === \"function\") {\n",
       "      displayChart(vegaEmbed);\n",
       "    } else {\n",
       "      loadScript(\"vega\")\n",
       "        .then(() => loadScript(\"vega-lite\"))\n",
       "        .then(() => loadScript(\"vega-embed\"))\n",
       "        .catch(showError)\n",
       "        .then(() => displayChart(vegaEmbed));\n",
       "    }\n",
       "  })({\"config\": {\"view\": {\"continuousWidth\": 400, \"continuousHeight\": 300}}, \"data\": {\"url\": \"altair-data-b2fe8fb5616f2f0ec61f01d320bf8001.json\", \"format\": {\"type\": \"json\"}}, \"mark\": \"bar\", \"encoding\": {\"color\": {\"type\": \"nominal\", \"field\": \"TYPE\"}, \"x\": {\"type\": \"quantitative\", \"aggregate\": \"count\", \"field\": \"index\", \"title\": \"cast count\"}, \"y\": {\"type\": \"nominal\", \"field\": \"index\", \"sort\": [\"Rogue One\", \"Finding Dory\", \"Captain America: Civil War\", \"The Secret Life of Pets\", \"The Jungle Book\", \"Deadpool\", \"Zootopia\", \"Batman v Superman: Dawn of Justice\", \"Suicide Squad\", \"Sing\", \"Moana\", \"Fantastic Beasts and Where to Find Them\", \"Doctor Strange\", \"Hidden Figures\", \"Jason Bourne\", \"Star Trek Beyond\", \"X-Men: Apocalypse\", \"Trolls\", \"La La Land\", \"Kung Fu Panda 3\", \"Ghostbusters\", \"Central Intelligence\", \"The Legend of Tarzan\", \"Sully\", \"Bad Moms\", \"The Angry Birds Movie\", \"Independence Day: Resurgence\", \"The Conjuring 2\", \"Arrival\", \"Passengers\", \"Sausage Party\", \"The Magnificent Seven\", \"Ride Along 2\", \"Don't Breathe\", \"Miss Peregrine's Home for Peculiar Children\", \"The Accountant\", \"Teenage Mutant Ninja Turtles: Out of the Shadows\", \"The Purge: Election Year\", \"Alice Through the Looking Glass\", \"Pete's Dragon\", \"The Girl on the Train\", \"Boo! A Madea Halloween\", \"Storks\", \"10 Cloverfield Lane\", \"Lights Out\", \"Hacksaw Ridge\", \"Allegiant\", \"Now You See Me 2\", \"Ice Age: Collision Course\", \"The Boss\"]}}, \"title\": \"Female\", \"transform\": [{\"filter\": \"(((datum.TYPE !== 'Unknown') && (datum.GENDER !== 'Unknown')) && (datum.GENDER !== 'null'))\"}], \"$schema\": \"https://vega.github.io/schema/vega-lite/v4.0.2.json\"}, {\"mode\": \"vega-lite\"});\n",
       "</script>"
      ],
      "text/plain": [
       "alt.Chart(...)"
      ]
     },
     "execution_count": 51,
     "metadata": {},
     "output_type": "execute_result"
    }
   ],
   "source": [
    "female = female_actors()\n",
    "female"
   ]
  },
  {
   "cell_type": "code",
   "execution_count": 52,
   "metadata": {
    "deletable": false,
    "editable": false,
    "nbgrader": {
     "checksum": "3656c3679c91795df6a1faa412179676",
     "grade": true,
     "grade_id": "female_actors_test",
     "locked": true,
     "points": 5,
     "schema_version": 1,
     "solution": false
    }
   },
   "outputs": [],
   "source": [
    "#hidden tests are within this cell\n"
   ]
  },
  {
   "cell_type": "markdown",
   "metadata": {},
   "source": [
    "### 2.4 Change filter transform (5 points)\n",
    "Complete the male_actors function, modify the previous visualization so that the actors visualized have Male gender. Use the Altair transform function for this, not Pandas.\n",
    "\n",
    "\n",
    "![\"Drawing\"](assets/alt_enc_3_resized.png)\n",
    "\n",
    "click [here](assets/alt_enc_3_fullSize.png) to see the full-sized image.\n",
    "\n",
    "- _Partial credit can be granted for each visualization (up to 2 points) if you provide a description of what the missing piece of the function is supposed to do without need for an altair working version_"
   ]
  },
  {
   "cell_type": "code",
   "execution_count": 53,
   "metadata": {
    "deletable": false,
    "nbgrader": {
     "checksum": "8ec9a0a4a2e15251bfcf8904fb4b5ce7",
     "grade": false,
     "grade_id": "male_actors",
     "locked": false,
     "schema_version": 1,
     "solution": true
    }
   },
   "outputs": [],
   "source": [
    "def male_actors():\n",
    "    \"\"\"\n",
    "    return an altair-defined chart that uses the bar mark for the variables and the color for the TYPE \n",
    "    this function filters the actors to be male\n",
    "    \"\"\"\n",
    "    #add filter transform\n",
    "    \n",
    "    # This is the starting point. Again, modify or replace this code to get the encoding we describe above\n",
    "    encoding = base.encode(\n",
    "            y= alt.Y(\n",
    "            'index:N',\n",
    "            sort= movies_order\n",
    "        ),\n",
    "        x=alt.X('count(index):Q',\n",
    "                sort='descending',\n",
    "                title='cast count'),\n",
    "        color = 'TYPE' # add color encoding\n",
    "    ).mark_bar().properties(title='Male')\n",
    "    \n",
    "    # YOUR CODE HERE\n",
    "   # raise NotImplementedError()\n",
    "    \n",
    "    return encoding.mark_bar().properties(title='Male')"
   ]
  },
  {
   "cell_type": "code",
   "execution_count": 54,
   "metadata": {},
   "outputs": [
    {
     "data": {
      "text/html": [
       "\n",
       "<div id=\"altair-viz-196bb976c151469290e895a4889a50fc\"></div>\n",
       "<script type=\"text/javascript\">\n",
       "  (function(spec, embedOpt){\n",
       "    const outputDiv = document.getElementById(\"altair-viz-196bb976c151469290e895a4889a50fc\");\n",
       "    const paths = {\n",
       "      \"vega\": \"https://cdn.jsdelivr.net/npm//vega@5?noext\",\n",
       "      \"vega-lib\": \"https://cdn.jsdelivr.net/npm//vega-lib?noext\",\n",
       "      \"vega-lite\": \"https://cdn.jsdelivr.net/npm//vega-lite@4.0.2?noext\",\n",
       "      \"vega-embed\": \"https://cdn.jsdelivr.net/npm//vega-embed@6?noext\",\n",
       "    };\n",
       "\n",
       "    function loadScript(lib) {\n",
       "      return new Promise(function(resolve, reject) {\n",
       "        var s = document.createElement('script');\n",
       "        s.src = paths[lib];\n",
       "        s.async = true;\n",
       "        s.onload = () => resolve(paths[lib]);\n",
       "        s.onerror = () => reject(`Error loading script: ${paths[lib]}`);\n",
       "        document.getElementsByTagName(\"head\")[0].appendChild(s);\n",
       "      });\n",
       "    }\n",
       "\n",
       "    function showError(err) {\n",
       "      outputDiv.innerHTML = `<div class=\"error\" style=\"color:red;\">${err}</div>`;\n",
       "      throw err;\n",
       "    }\n",
       "\n",
       "    function displayChart(vegaEmbed) {\n",
       "      vegaEmbed(outputDiv, spec, embedOpt)\n",
       "        .catch(err => showError(`Javascript Error: ${err.message}<br>This usually means there's a typo in your chart specification. See the javascript console for the full traceback.`));\n",
       "    }\n",
       "\n",
       "    if(typeof define === \"function\" && define.amd) {\n",
       "      requirejs.config({paths});\n",
       "      require([\"vega-embed\"], displayChart, err => showError(`Error loading script: ${err.message}`));\n",
       "    } else if (typeof vegaEmbed === \"function\") {\n",
       "      displayChart(vegaEmbed);\n",
       "    } else {\n",
       "      loadScript(\"vega\")\n",
       "        .then(() => loadScript(\"vega-lite\"))\n",
       "        .then(() => loadScript(\"vega-embed\"))\n",
       "        .catch(showError)\n",
       "        .then(() => displayChart(vegaEmbed));\n",
       "    }\n",
       "  })({\"config\": {\"view\": {\"continuousWidth\": 400, \"continuousHeight\": 300}}, \"data\": {\"url\": \"altair-data-b2fe8fb5616f2f0ec61f01d320bf8001.json\", \"format\": {\"type\": \"json\"}}, \"mark\": \"bar\", \"encoding\": {\"color\": {\"type\": \"nominal\", \"field\": \"TYPE\"}, \"x\": {\"type\": \"quantitative\", \"aggregate\": \"count\", \"field\": \"index\", \"sort\": \"descending\", \"title\": \"cast count\"}, \"y\": {\"type\": \"nominal\", \"field\": \"index\", \"sort\": [\"Rogue One\", \"Finding Dory\", \"Captain America: Civil War\", \"The Secret Life of Pets\", \"The Jungle Book\", \"Deadpool\", \"Zootopia\", \"Batman v Superman: Dawn of Justice\", \"Suicide Squad\", \"Sing\", \"Moana\", \"Fantastic Beasts and Where to Find Them\", \"Doctor Strange\", \"Hidden Figures\", \"Jason Bourne\", \"Star Trek Beyond\", \"X-Men: Apocalypse\", \"Trolls\", \"La La Land\", \"Kung Fu Panda 3\", \"Ghostbusters\", \"Central Intelligence\", \"The Legend of Tarzan\", \"Sully\", \"Bad Moms\", \"The Angry Birds Movie\", \"Independence Day: Resurgence\", \"The Conjuring 2\", \"Arrival\", \"Passengers\", \"Sausage Party\", \"The Magnificent Seven\", \"Ride Along 2\", \"Don't Breathe\", \"Miss Peregrine's Home for Peculiar Children\", \"The Accountant\", \"Teenage Mutant Ninja Turtles: Out of the Shadows\", \"The Purge: Election Year\", \"Alice Through the Looking Glass\", \"Pete's Dragon\", \"The Girl on the Train\", \"Boo! A Madea Halloween\", \"Storks\", \"10 Cloverfield Lane\", \"Lights Out\", \"Hacksaw Ridge\", \"Allegiant\", \"Now You See Me 2\", \"Ice Age: Collision Course\", \"The Boss\"]}}, \"title\": \"Male\", \"transform\": [{\"filter\": \"(((datum.TYPE !== 'Unknown') && (datum.GENDER !== 'Unknown')) && (datum.GENDER !== 'null'))\"}], \"$schema\": \"https://vega.github.io/schema/vega-lite/v4.0.2.json\"}, {\"mode\": \"vega-lite\"});\n",
       "</script>"
      ],
      "text/plain": [
       "alt.Chart(...)"
      ]
     },
     "execution_count": 54,
     "metadata": {},
     "output_type": "execute_result"
    }
   ],
   "source": [
    "male = male_actors()\n",
    "male"
   ]
  },
  {
   "cell_type": "code",
   "execution_count": 55,
   "metadata": {
    "deletable": false,
    "editable": false,
    "nbgrader": {
     "checksum": "0779b1ead6032a632eb159c7d24ca452",
     "grade": true,
     "grade_id": "male_actors_test",
     "locked": true,
     "points": 5,
     "schema_version": 1,
     "solution": false
    }
   },
   "outputs": [],
   "source": [
    "#hidden tests are within this cell"
   ]
  },
  {
   "cell_type": "markdown",
   "metadata": {},
   "source": [
    "### 2.5 Variables encoded 2 (5 points)\n",
    "Complete the `variables_encoded_2` function.\n",
    "Return the number of variables encoded in the following plot (again, something like `return 5000;`... we're using this for automated testing). If you have been able to complete the previous examples, the plot should look like this\n",
    "\n",
    "![\"Drawing\"](assets/visualization_resized.png)\n",
    "\n",
    "click [here](assets/visualization_fullSize.png) to see the full-sized image."
   ]
  },
  {
   "cell_type": "code",
   "execution_count": 56,
   "metadata": {},
   "outputs": [
    {
     "data": {
      "text/html": [
       "\n",
       "<div id=\"altair-viz-64980ba01fa34fc8832dac7c4232b130\"></div>\n",
       "<script type=\"text/javascript\">\n",
       "  (function(spec, embedOpt){\n",
       "    const outputDiv = document.getElementById(\"altair-viz-64980ba01fa34fc8832dac7c4232b130\");\n",
       "    const paths = {\n",
       "      \"vega\": \"https://cdn.jsdelivr.net/npm//vega@5?noext\",\n",
       "      \"vega-lib\": \"https://cdn.jsdelivr.net/npm//vega-lib?noext\",\n",
       "      \"vega-lite\": \"https://cdn.jsdelivr.net/npm//vega-lite@4.0.2?noext\",\n",
       "      \"vega-embed\": \"https://cdn.jsdelivr.net/npm//vega-embed@6?noext\",\n",
       "    };\n",
       "\n",
       "    function loadScript(lib) {\n",
       "      return new Promise(function(resolve, reject) {\n",
       "        var s = document.createElement('script');\n",
       "        s.src = paths[lib];\n",
       "        s.async = true;\n",
       "        s.onload = () => resolve(paths[lib]);\n",
       "        s.onerror = () => reject(`Error loading script: ${paths[lib]}`);\n",
       "        document.getElementsByTagName(\"head\")[0].appendChild(s);\n",
       "      });\n",
       "    }\n",
       "\n",
       "    function showError(err) {\n",
       "      outputDiv.innerHTML = `<div class=\"error\" style=\"color:red;\">${err}</div>`;\n",
       "      throw err;\n",
       "    }\n",
       "\n",
       "    function displayChart(vegaEmbed) {\n",
       "      vegaEmbed(outputDiv, spec, embedOpt)\n",
       "        .catch(err => showError(`Javascript Error: ${err.message}<br>This usually means there's a typo in your chart specification. See the javascript console for the full traceback.`));\n",
       "    }\n",
       "\n",
       "    if(typeof define === \"function\" && define.amd) {\n",
       "      requirejs.config({paths});\n",
       "      require([\"vega-embed\"], displayChart, err => showError(`Error loading script: ${err.message}`));\n",
       "    } else if (typeof vegaEmbed === \"function\") {\n",
       "      displayChart(vegaEmbed);\n",
       "    } else {\n",
       "      loadScript(\"vega\")\n",
       "        .then(() => loadScript(\"vega-lite\"))\n",
       "        .then(() => loadScript(\"vega-embed\"))\n",
       "        .catch(showError)\n",
       "        .then(() => displayChart(vegaEmbed));\n",
       "    }\n",
       "  })({\"config\": {\"view\": {\"continuousWidth\": 400, \"continuousHeight\": 300}}, \"hconcat\": [{\"mark\": \"bar\", \"encoding\": {\"color\": {\"type\": \"nominal\", \"field\": \"TYPE\"}, \"x\": {\"type\": \"quantitative\", \"aggregate\": \"count\", \"field\": \"index\", \"sort\": \"descending\", \"title\": \"cast count\"}, \"y\": {\"type\": \"nominal\", \"field\": \"index\", \"sort\": [\"Rogue One\", \"Finding Dory\", \"Captain America: Civil War\", \"The Secret Life of Pets\", \"The Jungle Book\", \"Deadpool\", \"Zootopia\", \"Batman v Superman: Dawn of Justice\", \"Suicide Squad\", \"Sing\", \"Moana\", \"Fantastic Beasts and Where to Find Them\", \"Doctor Strange\", \"Hidden Figures\", \"Jason Bourne\", \"Star Trek Beyond\", \"X-Men: Apocalypse\", \"Trolls\", \"La La Land\", \"Kung Fu Panda 3\", \"Ghostbusters\", \"Central Intelligence\", \"The Legend of Tarzan\", \"Sully\", \"Bad Moms\", \"The Angry Birds Movie\", \"Independence Day: Resurgence\", \"The Conjuring 2\", \"Arrival\", \"Passengers\", \"Sausage Party\", \"The Magnificent Seven\", \"Ride Along 2\", \"Don't Breathe\", \"Miss Peregrine's Home for Peculiar Children\", \"The Accountant\", \"Teenage Mutant Ninja Turtles: Out of the Shadows\", \"The Purge: Election Year\", \"Alice Through the Looking Glass\", \"Pete's Dragon\", \"The Girl on the Train\", \"Boo! A Madea Halloween\", \"Storks\", \"10 Cloverfield Lane\", \"Lights Out\", \"Hacksaw Ridge\", \"Allegiant\", \"Now You See Me 2\", \"Ice Age: Collision Course\", \"The Boss\"]}}, \"title\": \"Male\", \"transform\": [{\"filter\": \"(((datum.TYPE !== 'Unknown') && (datum.GENDER !== 'Unknown')) && (datum.GENDER !== 'null'))\"}]}, {\"mark\": \"text\", \"encoding\": {\"color\": {\"type\": \"nominal\", \"field\": \"bechdel\"}, \"text\": {\"type\": \"quantitative\", \"field\": \"Rank\"}, \"y\": {\"type\": \"ordinal\", \"axis\": null, \"field\": \"Rank\"}}, \"transform\": [{\"filter\": \"(((datum.TYPE !== 'Unknown') && (datum.GENDER !== 'Unknown')) && (datum.GENDER !== 'null'))\"}], \"width\": 20}, {\"mark\": \"bar\", \"encoding\": {\"color\": {\"type\": \"nominal\", \"field\": \"TYPE\"}, \"x\": {\"type\": \"quantitative\", \"aggregate\": \"count\", \"field\": \"index\", \"title\": \"cast count\"}, \"y\": {\"type\": \"nominal\", \"field\": \"index\", \"sort\": [\"Rogue One\", \"Finding Dory\", \"Captain America: Civil War\", \"The Secret Life of Pets\", \"The Jungle Book\", \"Deadpool\", \"Zootopia\", \"Batman v Superman: Dawn of Justice\", \"Suicide Squad\", \"Sing\", \"Moana\", \"Fantastic Beasts and Where to Find Them\", \"Doctor Strange\", \"Hidden Figures\", \"Jason Bourne\", \"Star Trek Beyond\", \"X-Men: Apocalypse\", \"Trolls\", \"La La Land\", \"Kung Fu Panda 3\", \"Ghostbusters\", \"Central Intelligence\", \"The Legend of Tarzan\", \"Sully\", \"Bad Moms\", \"The Angry Birds Movie\", \"Independence Day: Resurgence\", \"The Conjuring 2\", \"Arrival\", \"Passengers\", \"Sausage Party\", \"The Magnificent Seven\", \"Ride Along 2\", \"Don't Breathe\", \"Miss Peregrine's Home for Peculiar Children\", \"The Accountant\", \"Teenage Mutant Ninja Turtles: Out of the Shadows\", \"The Purge: Election Year\", \"Alice Through the Looking Glass\", \"Pete's Dragon\", \"The Girl on the Train\", \"Boo! A Madea Halloween\", \"Storks\", \"10 Cloverfield Lane\", \"Lights Out\", \"Hacksaw Ridge\", \"Allegiant\", \"Now You See Me 2\", \"Ice Age: Collision Course\", \"The Boss\"]}}, \"title\": \"Female\", \"transform\": [{\"filter\": \"(((datum.TYPE !== 'Unknown') && (datum.GENDER !== 'Unknown')) && (datum.GENDER !== 'null'))\"}]}], \"data\": {\"url\": \"altair-data-b2fe8fb5616f2f0ec61f01d320bf8001.json\", \"format\": {\"type\": \"json\"}}, \"$schema\": \"https://vega.github.io/schema/vega-lite/v4.0.2.json\"}, {\"mode\": \"vega-lite\"});\n",
       "</script>"
      ],
      "text/plain": [
       "alt.HConcatChart(...)"
      ]
     },
     "execution_count": 56,
     "metadata": {},
     "output_type": "execute_result"
    }
   ],
   "source": [
    "middle = base.encode(\n",
    "    y=alt.Y('Rank:O', axis=None),\n",
    "    text=alt.Text('Rank:Q'),\n",
    "    color=alt.Color('bechdel:N')\n",
    ").mark_text().properties(width=20)\n",
    "\n",
    "# merge together the three charts, male, middle, female\n",
    "male | middle | female"
   ]
  },
  {
   "cell_type": "code",
   "execution_count": 57,
   "metadata": {
    "deletable": false,
    "nbgrader": {
     "checksum": "602b60ddc3171537ab07047a3f8a8cbb",
     "grade": false,
     "grade_id": "variables_encoded_2",
     "locked": false,
     "schema_version": 1,
     "solution": true
    }
   },
   "outputs": [],
   "source": [
    "def variables_encoded_2():\n",
    "    \"\"\"\n",
    "    return the number of variables encoded in the given example\n",
    "    \"\"\"\n",
    "    # YOUR CODE HERE\n",
    "    return 6\n",
    "   # raise NotImplementedError()"
   ]
  },
  {
   "cell_type": "code",
   "execution_count": 58,
   "metadata": {
    "deletable": false,
    "editable": false,
    "nbgrader": {
     "checksum": "5a227fc538e27371422c2cafe7447289",
     "grade": true,
     "grade_id": "variables_encoded_2_test",
     "locked": true,
     "points": 5,
     "schema_version": 1,
     "solution": false
    }
   },
   "outputs": [],
   "source": [
    "#hidden tests are within this cell"
   ]
  },
  {
   "cell_type": "markdown",
   "metadata": {},
   "source": [
    "### 2.6 Alternative encoding 1 (20 Points)\n",
    "Create a new visualization within the `alternative_encoding_one` function with the following encoding:\n",
    "- Use circles as the mark\n",
    "- Use the scale of the circles to encode the number of actors on each category\n",
    "- Use the y position of the circle to encode the movie\n",
    "- Use the x position of the circle to encode the type of actor\n",
    "- Use the color of the circle to encode the gender of the actor\n",
    "- Match the styling of the example\n",
    "\n",
    "\n",
    "![\"Drawing\"](assets/visualization_2_resized.png)\n",
    "\n",
    "click [here](assets/visualization_2_fullSize.png) to see the full-sized image.\n",
    "\n",
    "- _Partial credit can be granted for each visualization (up to 5 points) if you provide a description of what the missing piece of the function is supposed to do_"
   ]
  },
  {
   "cell_type": "code",
   "execution_count": 59,
   "metadata": {
    "deletable": false,
    "nbgrader": {
     "checksum": "5fc7614b9c9cefc1f70a0bceb231ea10",
     "grade": false,
     "grade_id": "alternative_encoding_one",
     "locked": false,
     "schema_version": 1,
     "solution": true
    }
   },
   "outputs": [],
   "source": [
    "def alternative_encoding_one():\n",
    "    \"\"\"\n",
    "    return call to altair function for the new visualization\n",
    "    \"\"\"\n",
    "    #change this\n",
    "    plot = base.mark_circle(\n",
    "       opacity=0.8,\n",
    "       stroke='black',\n",
    "       strokeWidth=1\n",
    "    ).encode(\n",
    "        alt.Y('index:N',\n",
    "              sort= movies_order),\n",
    "        alt.X('TYPE:N', title = 'cast count'),\n",
    "        color = alt.Color('GENDER:N'),\n",
    "        size = alt.Size('count(index):Q', scale = alt.Scale(range = [0, 3000]), legend=alt.Legend(title='Count of actors', symbolFillColor ='white'))\n",
    "        #complete this\n",
    "    ).properties(\n",
    "        width=350,\n",
    "        height=880\n",
    "    )\n",
    "    # YOUR CODE HERE\n",
    "    #raise NotImplementedError()\n",
    "    return plot"
   ]
  },
  {
   "cell_type": "code",
   "execution_count": 60,
   "metadata": {},
   "outputs": [
    {
     "data": {
      "text/html": [
       "\n",
       "<div id=\"altair-viz-9ce9a6485b394472b5e91bfcafa866ec\"></div>\n",
       "<script type=\"text/javascript\">\n",
       "  (function(spec, embedOpt){\n",
       "    const outputDiv = document.getElementById(\"altair-viz-9ce9a6485b394472b5e91bfcafa866ec\");\n",
       "    const paths = {\n",
       "      \"vega\": \"https://cdn.jsdelivr.net/npm//vega@5?noext\",\n",
       "      \"vega-lib\": \"https://cdn.jsdelivr.net/npm//vega-lib?noext\",\n",
       "      \"vega-lite\": \"https://cdn.jsdelivr.net/npm//vega-lite@4.0.2?noext\",\n",
       "      \"vega-embed\": \"https://cdn.jsdelivr.net/npm//vega-embed@6?noext\",\n",
       "    };\n",
       "\n",
       "    function loadScript(lib) {\n",
       "      return new Promise(function(resolve, reject) {\n",
       "        var s = document.createElement('script');\n",
       "        s.src = paths[lib];\n",
       "        s.async = true;\n",
       "        s.onload = () => resolve(paths[lib]);\n",
       "        s.onerror = () => reject(`Error loading script: ${paths[lib]}`);\n",
       "        document.getElementsByTagName(\"head\")[0].appendChild(s);\n",
       "      });\n",
       "    }\n",
       "\n",
       "    function showError(err) {\n",
       "      outputDiv.innerHTML = `<div class=\"error\" style=\"color:red;\">${err}</div>`;\n",
       "      throw err;\n",
       "    }\n",
       "\n",
       "    function displayChart(vegaEmbed) {\n",
       "      vegaEmbed(outputDiv, spec, embedOpt)\n",
       "        .catch(err => showError(`Javascript Error: ${err.message}<br>This usually means there's a typo in your chart specification. See the javascript console for the full traceback.`));\n",
       "    }\n",
       "\n",
       "    if(typeof define === \"function\" && define.amd) {\n",
       "      requirejs.config({paths});\n",
       "      require([\"vega-embed\"], displayChart, err => showError(`Error loading script: ${err.message}`));\n",
       "    } else if (typeof vegaEmbed === \"function\") {\n",
       "      displayChart(vegaEmbed);\n",
       "    } else {\n",
       "      loadScript(\"vega\")\n",
       "        .then(() => loadScript(\"vega-lite\"))\n",
       "        .then(() => loadScript(\"vega-embed\"))\n",
       "        .catch(showError)\n",
       "        .then(() => displayChart(vegaEmbed));\n",
       "    }\n",
       "  })({\"config\": {\"view\": {\"continuousWidth\": 400, \"continuousHeight\": 300}}, \"hconcat\": [{\"mark\": \"text\", \"encoding\": {\"color\": {\"type\": \"nominal\", \"field\": \"bechdel\"}, \"text\": {\"type\": \"quantitative\", \"field\": \"Rank\"}, \"y\": {\"type\": \"ordinal\", \"axis\": null, \"field\": \"Rank\"}}, \"transform\": [{\"filter\": \"(((datum.TYPE !== 'Unknown') && (datum.GENDER !== 'Unknown')) && (datum.GENDER !== 'null'))\"}], \"width\": 20}, {\"mark\": {\"type\": \"circle\", \"opacity\": 0.8, \"stroke\": \"black\", \"strokeWidth\": 1}, \"encoding\": {\"color\": {\"type\": \"nominal\", \"field\": \"GENDER\"}, \"size\": {\"type\": \"quantitative\", \"aggregate\": \"count\", \"field\": \"index\", \"legend\": {\"symbolFillColor\": \"white\", \"title\": \"Count of actors\"}, \"scale\": {\"range\": [0, 3000]}}, \"x\": {\"type\": \"nominal\", \"field\": \"TYPE\", \"title\": \"cast count\"}, \"y\": {\"type\": \"nominal\", \"field\": \"index\", \"sort\": [\"Rogue One\", \"Finding Dory\", \"Captain America: Civil War\", \"The Secret Life of Pets\", \"The Jungle Book\", \"Deadpool\", \"Zootopia\", \"Batman v Superman: Dawn of Justice\", \"Suicide Squad\", \"Sing\", \"Moana\", \"Fantastic Beasts and Where to Find Them\", \"Doctor Strange\", \"Hidden Figures\", \"Jason Bourne\", \"Star Trek Beyond\", \"X-Men: Apocalypse\", \"Trolls\", \"La La Land\", \"Kung Fu Panda 3\", \"Ghostbusters\", \"Central Intelligence\", \"The Legend of Tarzan\", \"Sully\", \"Bad Moms\", \"The Angry Birds Movie\", \"Independence Day: Resurgence\", \"The Conjuring 2\", \"Arrival\", \"Passengers\", \"Sausage Party\", \"The Magnificent Seven\", \"Ride Along 2\", \"Don't Breathe\", \"Miss Peregrine's Home for Peculiar Children\", \"The Accountant\", \"Teenage Mutant Ninja Turtles: Out of the Shadows\", \"The Purge: Election Year\", \"Alice Through the Looking Glass\", \"Pete's Dragon\", \"The Girl on the Train\", \"Boo! A Madea Halloween\", \"Storks\", \"10 Cloverfield Lane\", \"Lights Out\", \"Hacksaw Ridge\", \"Allegiant\", \"Now You See Me 2\", \"Ice Age: Collision Course\", \"The Boss\"]}}, \"height\": 880, \"transform\": [{\"filter\": \"(((datum.TYPE !== 'Unknown') && (datum.GENDER !== 'Unknown')) && (datum.GENDER !== 'null'))\"}], \"width\": 350}], \"data\": {\"url\": \"altair-data-b2fe8fb5616f2f0ec61f01d320bf8001.json\", \"format\": {\"type\": \"json\"}}, \"$schema\": \"https://vega.github.io/schema/vega-lite/v4.0.2.json\"}, {\"mode\": \"vega-lite\"});\n",
       "</script>"
      ],
      "text/plain": [
       "alt.HConcatChart(...)"
      ]
     },
     "execution_count": 60,
     "metadata": {},
     "output_type": "execute_result"
    }
   ],
   "source": [
    "al_enc_one = alternative_encoding_one()\n",
    "middle | al_enc_one"
   ]
  },
  {
   "cell_type": "code",
   "execution_count": 61,
   "metadata": {
    "deletable": false,
    "editable": false,
    "nbgrader": {
     "checksum": "483e0280d9d01d653eba82505453157d",
     "grade": true,
     "grade_id": "alternative_encoding_one_test",
     "locked": true,
     "points": 20,
     "schema_version": 1,
     "solution": false
    }
   },
   "outputs": [],
   "source": [
    "#hidden tests are within this cell\n"
   ]
  },
  {
   "cell_type": "markdown",
   "metadata": {},
   "source": [
    "### 2.7 Alternative encoding 2 (25 Points)\n",
    "complete `female_actors_1()` and `male_actors_1()` functions to create a new visualization with the following encoding:\n",
    "- The left and right plot should filter male and female actors respectively\n",
    "- Use rectangles as the mark\n",
    "- Use the text inside each rectangle to encode the count of actors one each category (gender, type and movie)\n",
    "- Use the y position of the rectangle to encode the movie\n",
    "- Use the x position of the rectangle to encode the type of actor\n",
    "- Use the color of the rectangle to encode whether that movie passes the Bechdel test or not (bechdel variable)\n",
    "- Note that only the female vis has labels on the left, the male vis does not\n",
    "\n",
    "The top of the female plot would look like this (click [here](assets/visualization_3_fullSize.png) to see the full-sized image):\n",
    "\n",
    "![\"Drawing\"](assets/visualization_3_resized.png)\n",
    "\n",
    "If you've done everything correctly, your final visualization should look like the one below (click [here](assets/visualization_3_full.png) for the full plot).\n",
    "\n",
    "![\"Drawing\"](assets/visualization_3.png)\n",
    "\n",
    "- _Partial credit can be granted for each visualization (up to 4 points for each function) if you provide a description of what the missing piece of the function is supposed to do without need for an Altair working version_"
   ]
  },
  {
   "cell_type": "code",
   "execution_count": 62,
   "metadata": {
    "deletable": false,
    "nbgrader": {
     "checksum": "688d0acc7cb6ae97607db6a9a1a6be37",
     "grade": false,
     "grade_id": "female_actors_1",
     "locked": false,
     "schema_version": 1,
     "solution": true
    }
   },
   "outputs": [],
   "source": [
    "def female_actors_1():\n",
    "    \"\"\"\n",
    "    return call to altair function for the new visualization\n",
    "    \"\"\"\n",
    "    # modify to add filter transform\n",
    "    plot = base.mark_rect().encode(\n",
    "        alt.X('TYPE:O'),\n",
    "        alt.Y('index:N',\n",
    "              sort= movies_order),\n",
    "        color = alt.Color('bechdel:N')  # add text and color\n",
    "    ).transform_filter(alt.datum.GENDER == 'Female')  #add filter transform\n",
    "    \n",
    "    \n",
    "    text = base.mark_text(baseline='middle', align = 'center').encode(\n",
    "        x='TYPE:O',\n",
    "        y= alt.Y(\n",
    "            'index:N',\n",
    "            sort= movies_order\n",
    "        ),\n",
    "        #change this\n",
    "        text='count(index)'\n",
    "    ).transform_filter(alt.datum.GENDER == 'Female')\n",
    "    # YOUR CODE HERE\n",
    "   # raise NotImplementedError()\n",
    "    return plot + text"
   ]
  },
  {
   "cell_type": "code",
   "execution_count": 63,
   "metadata": {},
   "outputs": [
    {
     "data": {
      "text/html": [
       "\n",
       "<div id=\"altair-viz-54cd074d1bec477e95c23a8477a89ac0\"></div>\n",
       "<script type=\"text/javascript\">\n",
       "  (function(spec, embedOpt){\n",
       "    const outputDiv = document.getElementById(\"altair-viz-54cd074d1bec477e95c23a8477a89ac0\");\n",
       "    const paths = {\n",
       "      \"vega\": \"https://cdn.jsdelivr.net/npm//vega@5?noext\",\n",
       "      \"vega-lib\": \"https://cdn.jsdelivr.net/npm//vega-lib?noext\",\n",
       "      \"vega-lite\": \"https://cdn.jsdelivr.net/npm//vega-lite@4.0.2?noext\",\n",
       "      \"vega-embed\": \"https://cdn.jsdelivr.net/npm//vega-embed@6?noext\",\n",
       "    };\n",
       "\n",
       "    function loadScript(lib) {\n",
       "      return new Promise(function(resolve, reject) {\n",
       "        var s = document.createElement('script');\n",
       "        s.src = paths[lib];\n",
       "        s.async = true;\n",
       "        s.onload = () => resolve(paths[lib]);\n",
       "        s.onerror = () => reject(`Error loading script: ${paths[lib]}`);\n",
       "        document.getElementsByTagName(\"head\")[0].appendChild(s);\n",
       "      });\n",
       "    }\n",
       "\n",
       "    function showError(err) {\n",
       "      outputDiv.innerHTML = `<div class=\"error\" style=\"color:red;\">${err}</div>`;\n",
       "      throw err;\n",
       "    }\n",
       "\n",
       "    function displayChart(vegaEmbed) {\n",
       "      vegaEmbed(outputDiv, spec, embedOpt)\n",
       "        .catch(err => showError(`Javascript Error: ${err.message}<br>This usually means there's a typo in your chart specification. See the javascript console for the full traceback.`));\n",
       "    }\n",
       "\n",
       "    if(typeof define === \"function\" && define.amd) {\n",
       "      requirejs.config({paths});\n",
       "      require([\"vega-embed\"], displayChart, err => showError(`Error loading script: ${err.message}`));\n",
       "    } else if (typeof vegaEmbed === \"function\") {\n",
       "      displayChart(vegaEmbed);\n",
       "    } else {\n",
       "      loadScript(\"vega\")\n",
       "        .then(() => loadScript(\"vega-lite\"))\n",
       "        .then(() => loadScript(\"vega-embed\"))\n",
       "        .catch(showError)\n",
       "        .then(() => displayChart(vegaEmbed));\n",
       "    }\n",
       "  })({\"config\": {\"view\": {\"continuousWidth\": 400, \"continuousHeight\": 300}}, \"layer\": [{\"mark\": \"rect\", \"encoding\": {\"color\": {\"type\": \"nominal\", \"field\": \"bechdel\"}, \"x\": {\"type\": \"ordinal\", \"field\": \"TYPE\"}, \"y\": {\"type\": \"nominal\", \"field\": \"index\", \"sort\": [\"Rogue One\", \"Finding Dory\", \"Captain America: Civil War\", \"The Secret Life of Pets\", \"The Jungle Book\", \"Deadpool\", \"Zootopia\", \"Batman v Superman: Dawn of Justice\", \"Suicide Squad\", \"Sing\", \"Moana\", \"Fantastic Beasts and Where to Find Them\", \"Doctor Strange\", \"Hidden Figures\", \"Jason Bourne\", \"Star Trek Beyond\", \"X-Men: Apocalypse\", \"Trolls\", \"La La Land\", \"Kung Fu Panda 3\", \"Ghostbusters\", \"Central Intelligence\", \"The Legend of Tarzan\", \"Sully\", \"Bad Moms\", \"The Angry Birds Movie\", \"Independence Day: Resurgence\", \"The Conjuring 2\", \"Arrival\", \"Passengers\", \"Sausage Party\", \"The Magnificent Seven\", \"Ride Along 2\", \"Don't Breathe\", \"Miss Peregrine's Home for Peculiar Children\", \"The Accountant\", \"Teenage Mutant Ninja Turtles: Out of the Shadows\", \"The Purge: Election Year\", \"Alice Through the Looking Glass\", \"Pete's Dragon\", \"The Girl on the Train\", \"Boo! A Madea Halloween\", \"Storks\", \"10 Cloverfield Lane\", \"Lights Out\", \"Hacksaw Ridge\", \"Allegiant\", \"Now You See Me 2\", \"Ice Age: Collision Course\", \"The Boss\"]}}, \"transform\": [{\"filter\": \"(((datum.TYPE !== 'Unknown') && (datum.GENDER !== 'Unknown')) && (datum.GENDER !== 'null'))\"}, {\"filter\": \"(datum.GENDER === 'Female')\"}]}, {\"mark\": {\"type\": \"text\", \"align\": \"center\", \"baseline\": \"middle\"}, \"encoding\": {\"text\": {\"type\": \"nominal\", \"aggregate\": \"count\", \"field\": \"index\"}, \"x\": {\"type\": \"ordinal\", \"field\": \"TYPE\"}, \"y\": {\"type\": \"nominal\", \"field\": \"index\", \"sort\": [\"Rogue One\", \"Finding Dory\", \"Captain America: Civil War\", \"The Secret Life of Pets\", \"The Jungle Book\", \"Deadpool\", \"Zootopia\", \"Batman v Superman: Dawn of Justice\", \"Suicide Squad\", \"Sing\", \"Moana\", \"Fantastic Beasts and Where to Find Them\", \"Doctor Strange\", \"Hidden Figures\", \"Jason Bourne\", \"Star Trek Beyond\", \"X-Men: Apocalypse\", \"Trolls\", \"La La Land\", \"Kung Fu Panda 3\", \"Ghostbusters\", \"Central Intelligence\", \"The Legend of Tarzan\", \"Sully\", \"Bad Moms\", \"The Angry Birds Movie\", \"Independence Day: Resurgence\", \"The Conjuring 2\", \"Arrival\", \"Passengers\", \"Sausage Party\", \"The Magnificent Seven\", \"Ride Along 2\", \"Don't Breathe\", \"Miss Peregrine's Home for Peculiar Children\", \"The Accountant\", \"Teenage Mutant Ninja Turtles: Out of the Shadows\", \"The Purge: Election Year\", \"Alice Through the Looking Glass\", \"Pete's Dragon\", \"The Girl on the Train\", \"Boo! A Madea Halloween\", \"Storks\", \"10 Cloverfield Lane\", \"Lights Out\", \"Hacksaw Ridge\", \"Allegiant\", \"Now You See Me 2\", \"Ice Age: Collision Course\", \"The Boss\"]}}, \"transform\": [{\"filter\": \"(((datum.TYPE !== 'Unknown') && (datum.GENDER !== 'Unknown')) && (datum.GENDER !== 'null'))\"}, {\"filter\": \"(datum.GENDER === 'Female')\"}]}], \"data\": {\"url\": \"altair-data-b2fe8fb5616f2f0ec61f01d320bf8001.json\", \"format\": {\"type\": \"json\"}}, \"$schema\": \"https://vega.github.io/schema/vega-lite/v4.0.2.json\"}, {\"mode\": \"vega-lite\"});\n",
       "</script>"
      ],
      "text/plain": [
       "alt.LayerChart(...)"
      ]
     },
     "execution_count": 63,
     "metadata": {},
     "output_type": "execute_result"
    }
   ],
   "source": [
    "f_a_1 = female_actors_1()\n",
    "f_a_1"
   ]
  },
  {
   "cell_type": "code",
   "execution_count": 64,
   "metadata": {
    "deletable": false,
    "editable": false,
    "nbgrader": {
     "checksum": "2aff53ff4d001b8fe0f745985ae04797",
     "grade": true,
     "grade_id": "female_actors_1_test",
     "locked": true,
     "points": 12.5,
     "schema_version": 1,
     "solution": false
    }
   },
   "outputs": [],
   "source": [
    "#hidden tests are within this cell\n"
   ]
  },
  {
   "cell_type": "code",
   "execution_count": 65,
   "metadata": {
    "deletable": false,
    "nbgrader": {
     "checksum": "c743a1867df38e2aadfee3391a06e652",
     "grade": false,
     "grade_id": "male_actors_1",
     "locked": false,
     "schema_version": 1,
     "solution": true
    }
   },
   "outputs": [],
   "source": [
    "def male_actors_1():\n",
    "    \"\"\"\n",
    "    return call to altair function for the new visualization\n",
    "    \"\"\"\n",
    "    #add filter transform\n",
    "    plot = base.mark_rect().encode(\n",
    "        alt.X('TYPE:O'),\n",
    "        alt.Y('index:N',\n",
    "              sort= movies_order, axis = None),\n",
    "        color = alt.Color('bechdel:N'),  # add text and color\n",
    "    ).transform_filter(alt.datum.GENDER == 'Male')  #add filter transform\n",
    "    \n",
    "    text = base.mark_text(baseline='middle', align = 'center').encode(\n",
    "        x='TYPE:O',\n",
    "        y= alt.Y(\n",
    "            'index:N',\n",
    "            sort= movies_order,\n",
    "            axis = None\n",
    "        ),\n",
    "        #change this\n",
    "        text='count(index)'\n",
    "    ).transform_filter(alt.datum.GENDER == 'Male')\n",
    "    # YOUR CODE HERE\n",
    "   # raise NotImplementedError()\n",
    "    return plot + text"
   ]
  },
  {
   "cell_type": "code",
   "execution_count": 66,
   "metadata": {},
   "outputs": [
    {
     "data": {
      "text/html": [
       "\n",
       "<div id=\"altair-viz-20696409026d43d0a372943864866e50\"></div>\n",
       "<script type=\"text/javascript\">\n",
       "  (function(spec, embedOpt){\n",
       "    const outputDiv = document.getElementById(\"altair-viz-20696409026d43d0a372943864866e50\");\n",
       "    const paths = {\n",
       "      \"vega\": \"https://cdn.jsdelivr.net/npm//vega@5?noext\",\n",
       "      \"vega-lib\": \"https://cdn.jsdelivr.net/npm//vega-lib?noext\",\n",
       "      \"vega-lite\": \"https://cdn.jsdelivr.net/npm//vega-lite@4.0.2?noext\",\n",
       "      \"vega-embed\": \"https://cdn.jsdelivr.net/npm//vega-embed@6?noext\",\n",
       "    };\n",
       "\n",
       "    function loadScript(lib) {\n",
       "      return new Promise(function(resolve, reject) {\n",
       "        var s = document.createElement('script');\n",
       "        s.src = paths[lib];\n",
       "        s.async = true;\n",
       "        s.onload = () => resolve(paths[lib]);\n",
       "        s.onerror = () => reject(`Error loading script: ${paths[lib]}`);\n",
       "        document.getElementsByTagName(\"head\")[0].appendChild(s);\n",
       "      });\n",
       "    }\n",
       "\n",
       "    function showError(err) {\n",
       "      outputDiv.innerHTML = `<div class=\"error\" style=\"color:red;\">${err}</div>`;\n",
       "      throw err;\n",
       "    }\n",
       "\n",
       "    function displayChart(vegaEmbed) {\n",
       "      vegaEmbed(outputDiv, spec, embedOpt)\n",
       "        .catch(err => showError(`Javascript Error: ${err.message}<br>This usually means there's a typo in your chart specification. See the javascript console for the full traceback.`));\n",
       "    }\n",
       "\n",
       "    if(typeof define === \"function\" && define.amd) {\n",
       "      requirejs.config({paths});\n",
       "      require([\"vega-embed\"], displayChart, err => showError(`Error loading script: ${err.message}`));\n",
       "    } else if (typeof vegaEmbed === \"function\") {\n",
       "      displayChart(vegaEmbed);\n",
       "    } else {\n",
       "      loadScript(\"vega\")\n",
       "        .then(() => loadScript(\"vega-lite\"))\n",
       "        .then(() => loadScript(\"vega-embed\"))\n",
       "        .catch(showError)\n",
       "        .then(() => displayChart(vegaEmbed));\n",
       "    }\n",
       "  })({\"config\": {\"view\": {\"continuousWidth\": 400, \"continuousHeight\": 300}}, \"layer\": [{\"mark\": \"rect\", \"encoding\": {\"color\": {\"type\": \"nominal\", \"field\": \"bechdel\"}, \"x\": {\"type\": \"ordinal\", \"field\": \"TYPE\"}, \"y\": {\"type\": \"nominal\", \"axis\": null, \"field\": \"index\", \"sort\": [\"Rogue One\", \"Finding Dory\", \"Captain America: Civil War\", \"The Secret Life of Pets\", \"The Jungle Book\", \"Deadpool\", \"Zootopia\", \"Batman v Superman: Dawn of Justice\", \"Suicide Squad\", \"Sing\", \"Moana\", \"Fantastic Beasts and Where to Find Them\", \"Doctor Strange\", \"Hidden Figures\", \"Jason Bourne\", \"Star Trek Beyond\", \"X-Men: Apocalypse\", \"Trolls\", \"La La Land\", \"Kung Fu Panda 3\", \"Ghostbusters\", \"Central Intelligence\", \"The Legend of Tarzan\", \"Sully\", \"Bad Moms\", \"The Angry Birds Movie\", \"Independence Day: Resurgence\", \"The Conjuring 2\", \"Arrival\", \"Passengers\", \"Sausage Party\", \"The Magnificent Seven\", \"Ride Along 2\", \"Don't Breathe\", \"Miss Peregrine's Home for Peculiar Children\", \"The Accountant\", \"Teenage Mutant Ninja Turtles: Out of the Shadows\", \"The Purge: Election Year\", \"Alice Through the Looking Glass\", \"Pete's Dragon\", \"The Girl on the Train\", \"Boo! A Madea Halloween\", \"Storks\", \"10 Cloverfield Lane\", \"Lights Out\", \"Hacksaw Ridge\", \"Allegiant\", \"Now You See Me 2\", \"Ice Age: Collision Course\", \"The Boss\"]}}, \"transform\": [{\"filter\": \"(((datum.TYPE !== 'Unknown') && (datum.GENDER !== 'Unknown')) && (datum.GENDER !== 'null'))\"}, {\"filter\": \"(datum.GENDER === 'Male')\"}]}, {\"mark\": {\"type\": \"text\", \"align\": \"center\", \"baseline\": \"middle\"}, \"encoding\": {\"text\": {\"type\": \"nominal\", \"aggregate\": \"count\", \"field\": \"index\"}, \"x\": {\"type\": \"ordinal\", \"field\": \"TYPE\"}, \"y\": {\"type\": \"nominal\", \"axis\": null, \"field\": \"index\", \"sort\": [\"Rogue One\", \"Finding Dory\", \"Captain America: Civil War\", \"The Secret Life of Pets\", \"The Jungle Book\", \"Deadpool\", \"Zootopia\", \"Batman v Superman: Dawn of Justice\", \"Suicide Squad\", \"Sing\", \"Moana\", \"Fantastic Beasts and Where to Find Them\", \"Doctor Strange\", \"Hidden Figures\", \"Jason Bourne\", \"Star Trek Beyond\", \"X-Men: Apocalypse\", \"Trolls\", \"La La Land\", \"Kung Fu Panda 3\", \"Ghostbusters\", \"Central Intelligence\", \"The Legend of Tarzan\", \"Sully\", \"Bad Moms\", \"The Angry Birds Movie\", \"Independence Day: Resurgence\", \"The Conjuring 2\", \"Arrival\", \"Passengers\", \"Sausage Party\", \"The Magnificent Seven\", \"Ride Along 2\", \"Don't Breathe\", \"Miss Peregrine's Home for Peculiar Children\", \"The Accountant\", \"Teenage Mutant Ninja Turtles: Out of the Shadows\", \"The Purge: Election Year\", \"Alice Through the Looking Glass\", \"Pete's Dragon\", \"The Girl on the Train\", \"Boo! A Madea Halloween\", \"Storks\", \"10 Cloverfield Lane\", \"Lights Out\", \"Hacksaw Ridge\", \"Allegiant\", \"Now You See Me 2\", \"Ice Age: Collision Course\", \"The Boss\"]}}, \"transform\": [{\"filter\": \"(((datum.TYPE !== 'Unknown') && (datum.GENDER !== 'Unknown')) && (datum.GENDER !== 'null'))\"}, {\"filter\": \"(datum.GENDER === 'Male')\"}]}], \"data\": {\"url\": \"altair-data-b2fe8fb5616f2f0ec61f01d320bf8001.json\", \"format\": {\"type\": \"json\"}}, \"$schema\": \"https://vega.github.io/schema/vega-lite/v4.0.2.json\"}, {\"mode\": \"vega-lite\"});\n",
       "</script>"
      ],
      "text/plain": [
       "alt.LayerChart(...)"
      ]
     },
     "execution_count": 66,
     "metadata": {},
     "output_type": "execute_result"
    }
   ],
   "source": [
    "m_a_1 = male_actors_1()\n",
    "m_a_1"
   ]
  },
  {
   "cell_type": "code",
   "execution_count": 67,
   "metadata": {
    "deletable": false,
    "editable": false,
    "nbgrader": {
     "checksum": "c772ba0e513e44d36bfaa035890dd2b9",
     "grade": true,
     "grade_id": "male_actors_1_test",
     "locked": true,
     "points": 12.5,
     "schema_version": 1,
     "solution": false
    }
   },
   "outputs": [],
   "source": [
    "#hidden tests are within this cell\n"
   ]
  },
  {
   "cell_type": "code",
   "execution_count": 68,
   "metadata": {},
   "outputs": [
    {
     "data": {
      "text/html": [
       "\n",
       "<div id=\"altair-viz-8be1d2a270c046e7926224da61150d9d\"></div>\n",
       "<script type=\"text/javascript\">\n",
       "  (function(spec, embedOpt){\n",
       "    const outputDiv = document.getElementById(\"altair-viz-8be1d2a270c046e7926224da61150d9d\");\n",
       "    const paths = {\n",
       "      \"vega\": \"https://cdn.jsdelivr.net/npm//vega@5?noext\",\n",
       "      \"vega-lib\": \"https://cdn.jsdelivr.net/npm//vega-lib?noext\",\n",
       "      \"vega-lite\": \"https://cdn.jsdelivr.net/npm//vega-lite@4.0.2?noext\",\n",
       "      \"vega-embed\": \"https://cdn.jsdelivr.net/npm//vega-embed@6?noext\",\n",
       "    };\n",
       "\n",
       "    function loadScript(lib) {\n",
       "      return new Promise(function(resolve, reject) {\n",
       "        var s = document.createElement('script');\n",
       "        s.src = paths[lib];\n",
       "        s.async = true;\n",
       "        s.onload = () => resolve(paths[lib]);\n",
       "        s.onerror = () => reject(`Error loading script: ${paths[lib]}`);\n",
       "        document.getElementsByTagName(\"head\")[0].appendChild(s);\n",
       "      });\n",
       "    }\n",
       "\n",
       "    function showError(err) {\n",
       "      outputDiv.innerHTML = `<div class=\"error\" style=\"color:red;\">${err}</div>`;\n",
       "      throw err;\n",
       "    }\n",
       "\n",
       "    function displayChart(vegaEmbed) {\n",
       "      vegaEmbed(outputDiv, spec, embedOpt)\n",
       "        .catch(err => showError(`Javascript Error: ${err.message}<br>This usually means there's a typo in your chart specification. See the javascript console for the full traceback.`));\n",
       "    }\n",
       "\n",
       "    if(typeof define === \"function\" && define.amd) {\n",
       "      requirejs.config({paths});\n",
       "      require([\"vega-embed\"], displayChart, err => showError(`Error loading script: ${err.message}`));\n",
       "    } else if (typeof vegaEmbed === \"function\") {\n",
       "      displayChart(vegaEmbed);\n",
       "    } else {\n",
       "      loadScript(\"vega\")\n",
       "        .then(() => loadScript(\"vega-lite\"))\n",
       "        .then(() => loadScript(\"vega-embed\"))\n",
       "        .catch(showError)\n",
       "        .then(() => displayChart(vegaEmbed));\n",
       "    }\n",
       "  })({\"config\": {\"view\": {\"continuousWidth\": 400, \"continuousHeight\": 300}}, \"hconcat\": [{\"layer\": [{\"mark\": \"rect\", \"encoding\": {\"color\": {\"type\": \"nominal\", \"field\": \"bechdel\"}, \"x\": {\"type\": \"ordinal\", \"field\": \"TYPE\"}, \"y\": {\"type\": \"nominal\", \"field\": \"index\", \"sort\": [\"Rogue One\", \"Finding Dory\", \"Captain America: Civil War\", \"The Secret Life of Pets\", \"The Jungle Book\", \"Deadpool\", \"Zootopia\", \"Batman v Superman: Dawn of Justice\", \"Suicide Squad\", \"Sing\", \"Moana\", \"Fantastic Beasts and Where to Find Them\", \"Doctor Strange\", \"Hidden Figures\", \"Jason Bourne\", \"Star Trek Beyond\", \"X-Men: Apocalypse\", \"Trolls\", \"La La Land\", \"Kung Fu Panda 3\", \"Ghostbusters\", \"Central Intelligence\", \"The Legend of Tarzan\", \"Sully\", \"Bad Moms\", \"The Angry Birds Movie\", \"Independence Day: Resurgence\", \"The Conjuring 2\", \"Arrival\", \"Passengers\", \"Sausage Party\", \"The Magnificent Seven\", \"Ride Along 2\", \"Don't Breathe\", \"Miss Peregrine's Home for Peculiar Children\", \"The Accountant\", \"Teenage Mutant Ninja Turtles: Out of the Shadows\", \"The Purge: Election Year\", \"Alice Through the Looking Glass\", \"Pete's Dragon\", \"The Girl on the Train\", \"Boo! A Madea Halloween\", \"Storks\", \"10 Cloverfield Lane\", \"Lights Out\", \"Hacksaw Ridge\", \"Allegiant\", \"Now You See Me 2\", \"Ice Age: Collision Course\", \"The Boss\"]}}, \"transform\": [{\"filter\": \"(((datum.TYPE !== 'Unknown') && (datum.GENDER !== 'Unknown')) && (datum.GENDER !== 'null'))\"}, {\"filter\": \"(datum.GENDER === 'Female')\"}]}, {\"mark\": {\"type\": \"text\", \"align\": \"center\", \"baseline\": \"middle\"}, \"encoding\": {\"text\": {\"type\": \"nominal\", \"aggregate\": \"count\", \"field\": \"index\"}, \"x\": {\"type\": \"ordinal\", \"field\": \"TYPE\"}, \"y\": {\"type\": \"nominal\", \"field\": \"index\", \"sort\": [\"Rogue One\", \"Finding Dory\", \"Captain America: Civil War\", \"The Secret Life of Pets\", \"The Jungle Book\", \"Deadpool\", \"Zootopia\", \"Batman v Superman: Dawn of Justice\", \"Suicide Squad\", \"Sing\", \"Moana\", \"Fantastic Beasts and Where to Find Them\", \"Doctor Strange\", \"Hidden Figures\", \"Jason Bourne\", \"Star Trek Beyond\", \"X-Men: Apocalypse\", \"Trolls\", \"La La Land\", \"Kung Fu Panda 3\", \"Ghostbusters\", \"Central Intelligence\", \"The Legend of Tarzan\", \"Sully\", \"Bad Moms\", \"The Angry Birds Movie\", \"Independence Day: Resurgence\", \"The Conjuring 2\", \"Arrival\", \"Passengers\", \"Sausage Party\", \"The Magnificent Seven\", \"Ride Along 2\", \"Don't Breathe\", \"Miss Peregrine's Home for Peculiar Children\", \"The Accountant\", \"Teenage Mutant Ninja Turtles: Out of the Shadows\", \"The Purge: Election Year\", \"Alice Through the Looking Glass\", \"Pete's Dragon\", \"The Girl on the Train\", \"Boo! A Madea Halloween\", \"Storks\", \"10 Cloverfield Lane\", \"Lights Out\", \"Hacksaw Ridge\", \"Allegiant\", \"Now You See Me 2\", \"Ice Age: Collision Course\", \"The Boss\"]}}, \"transform\": [{\"filter\": \"(((datum.TYPE !== 'Unknown') && (datum.GENDER !== 'Unknown')) && (datum.GENDER !== 'null'))\"}, {\"filter\": \"(datum.GENDER === 'Female')\"}]}]}, {\"mark\": \"text\", \"encoding\": {\"color\": {\"type\": \"nominal\", \"field\": \"bechdel\"}, \"text\": {\"type\": \"quantitative\", \"field\": \"Rank\"}, \"y\": {\"type\": \"ordinal\", \"axis\": null, \"field\": \"Rank\"}}, \"transform\": [{\"filter\": \"(((datum.TYPE !== 'Unknown') && (datum.GENDER !== 'Unknown')) && (datum.GENDER !== 'null'))\"}], \"width\": 20}, {\"layer\": [{\"mark\": \"rect\", \"encoding\": {\"color\": {\"type\": \"nominal\", \"field\": \"bechdel\"}, \"x\": {\"type\": \"ordinal\", \"field\": \"TYPE\"}, \"y\": {\"type\": \"nominal\", \"axis\": null, \"field\": \"index\", \"sort\": [\"Rogue One\", \"Finding Dory\", \"Captain America: Civil War\", \"The Secret Life of Pets\", \"The Jungle Book\", \"Deadpool\", \"Zootopia\", \"Batman v Superman: Dawn of Justice\", \"Suicide Squad\", \"Sing\", \"Moana\", \"Fantastic Beasts and Where to Find Them\", \"Doctor Strange\", \"Hidden Figures\", \"Jason Bourne\", \"Star Trek Beyond\", \"X-Men: Apocalypse\", \"Trolls\", \"La La Land\", \"Kung Fu Panda 3\", \"Ghostbusters\", \"Central Intelligence\", \"The Legend of Tarzan\", \"Sully\", \"Bad Moms\", \"The Angry Birds Movie\", \"Independence Day: Resurgence\", \"The Conjuring 2\", \"Arrival\", \"Passengers\", \"Sausage Party\", \"The Magnificent Seven\", \"Ride Along 2\", \"Don't Breathe\", \"Miss Peregrine's Home for Peculiar Children\", \"The Accountant\", \"Teenage Mutant Ninja Turtles: Out of the Shadows\", \"The Purge: Election Year\", \"Alice Through the Looking Glass\", \"Pete's Dragon\", \"The Girl on the Train\", \"Boo! A Madea Halloween\", \"Storks\", \"10 Cloverfield Lane\", \"Lights Out\", \"Hacksaw Ridge\", \"Allegiant\", \"Now You See Me 2\", \"Ice Age: Collision Course\", \"The Boss\"]}}, \"transform\": [{\"filter\": \"(((datum.TYPE !== 'Unknown') && (datum.GENDER !== 'Unknown')) && (datum.GENDER !== 'null'))\"}, {\"filter\": \"(datum.GENDER === 'Male')\"}]}, {\"mark\": {\"type\": \"text\", \"align\": \"center\", \"baseline\": \"middle\"}, \"encoding\": {\"text\": {\"type\": \"nominal\", \"aggregate\": \"count\", \"field\": \"index\"}, \"x\": {\"type\": \"ordinal\", \"field\": \"TYPE\"}, \"y\": {\"type\": \"nominal\", \"axis\": null, \"field\": \"index\", \"sort\": [\"Rogue One\", \"Finding Dory\", \"Captain America: Civil War\", \"The Secret Life of Pets\", \"The Jungle Book\", \"Deadpool\", \"Zootopia\", \"Batman v Superman: Dawn of Justice\", \"Suicide Squad\", \"Sing\", \"Moana\", \"Fantastic Beasts and Where to Find Them\", \"Doctor Strange\", \"Hidden Figures\", \"Jason Bourne\", \"Star Trek Beyond\", \"X-Men: Apocalypse\", \"Trolls\", \"La La Land\", \"Kung Fu Panda 3\", \"Ghostbusters\", \"Central Intelligence\", \"The Legend of Tarzan\", \"Sully\", \"Bad Moms\", \"The Angry Birds Movie\", \"Independence Day: Resurgence\", \"The Conjuring 2\", \"Arrival\", \"Passengers\", \"Sausage Party\", \"The Magnificent Seven\", \"Ride Along 2\", \"Don't Breathe\", \"Miss Peregrine's Home for Peculiar Children\", \"The Accountant\", \"Teenage Mutant Ninja Turtles: Out of the Shadows\", \"The Purge: Election Year\", \"Alice Through the Looking Glass\", \"Pete's Dragon\", \"The Girl on the Train\", \"Boo! A Madea Halloween\", \"Storks\", \"10 Cloverfield Lane\", \"Lights Out\", \"Hacksaw Ridge\", \"Allegiant\", \"Now You See Me 2\", \"Ice Age: Collision Course\", \"The Boss\"]}}, \"transform\": [{\"filter\": \"(((datum.TYPE !== 'Unknown') && (datum.GENDER !== 'Unknown')) && (datum.GENDER !== 'null'))\"}, {\"filter\": \"(datum.GENDER === 'Male')\"}]}]}], \"data\": {\"url\": \"altair-data-b2fe8fb5616f2f0ec61f01d320bf8001.json\", \"format\": {\"type\": \"json\"}}, \"$schema\": \"https://vega.github.io/schema/vega-lite/v4.0.2.json\"}, {\"mode\": \"vega-lite\"});\n",
       "</script>"
      ],
      "text/plain": [
       "alt.HConcatChart(...)"
      ]
     },
     "execution_count": 68,
     "metadata": {},
     "output_type": "execute_result"
    }
   ],
   "source": [
    "# create the visualization\n",
    "f_a_1 | middle | m_a_1"
   ]
  },
  {
   "cell_type": "markdown",
   "metadata": {},
   "source": [
    "### 2.8 (Bonus) Compare effectiveness (5 points)\n",
    "Look at the visualization for question 2.7. How does this visualization compare in terms of effectiveness to the visualizations in questions 2.5 and 2.6?"
   ]
  },
  {
   "cell_type": "markdown",
   "metadata": {
    "deletable": false,
    "nbgrader": {
     "checksum": "c8ecdf15b1e94566592eb89935a72128",
     "grade": true,
     "grade_id": "cell-ce75e2176c7151d8",
     "locked": false,
     "points": 0,
     "schema_version": 1,
     "solution": true
    }
   },
   "source": [
    "Compared to the visualizations in questions 2.5 and 2.6, the visualization for question 2.7 seems more difficult to interpret than question 2.5's but easier to interpret than question 2.6's visual. \n",
    " \n",
    " While this visual does show the actor type breakdown by gender for the movies, the color-coding of two binary values (male and female) and having a text label to show the actor count, versus 2.5's color-coding of the actor type where the bar sizes vary by the number of actors in that specific category, causes it to be harder to compare the breakdown of actor types, such as which movie had the most supporting actors. \n",
    " \n",
    " However, the 2.7 visualization is more effective than question 2.6's visualization; although the circles help with seeing where more of a certain actor type is found in the movies, it's visually-difficult to quickly analyze because the overlapping circle make it difficult to see the distinct differences in number of actor types per movie. "
   ]
  },
  {
   "cell_type": "code",
   "execution_count": null,
   "metadata": {},
   "outputs": [],
   "source": []
  }
 ],
 "metadata": {
  "coursera": {
   "schema_names": [
    "mads_information_visualization_i_v3_assignment2"
   ]
  },
  "kernelspec": {
   "display_name": "Python 3",
   "language": "python",
   "name": "python3"
  },
  "language_info": {
   "codemirror_mode": {
    "name": "ipython",
    "version": 3
   },
   "file_extension": ".py",
   "mimetype": "text/x-python",
   "name": "python",
   "nbconvert_exporter": "python",
   "pygments_lexer": "ipython3",
   "version": "3.7.3"
  },
  "toc": {
   "colors": {
    "hover_highlight": "#DAA520",
    "running_highlight": "#FF0000",
    "selected_highlight": "#FFD700"
   },
   "moveMenuLeft": true,
   "nav_menu": {
    "height": "390px",
    "width": "252px"
   },
   "navigate_menu": true,
   "number_sections": false,
   "sideBar": true,
   "threshold": 4,
   "toc_cell": false,
   "toc_section_display": "none",
   "toc_window_display": true,
   "widenNotebook": false
  }
 },
 "nbformat": 4,
 "nbformat_minor": 2
}
