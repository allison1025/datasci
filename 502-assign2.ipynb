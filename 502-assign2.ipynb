{
 "cells": [
  {
   "cell_type": "markdown",
   "metadata": {
    "deletable": false,
    "editable": false,
    "nbgrader": {
     "checksum": "791b8541b8936283ab6178713907b41d",
     "grade": false,
     "grade_id": "cell-a2d42e109d5a4446",
     "locked": true,
     "schema_version": 1,
     "solution": false
    }
   },
   "source": [
    "# SIADS 502: Math Methods for Data Science \n",
    "\n",
    "\n",
    "# School of Information, University of Michigan\n",
    "\n",
    "\n",
    "## Week2: Eigenvalue/Eigenvector/Linear Trasformation\n",
    "\n",
    "### Version 1.2\n",
    "\n",
    "This assignment is designed to demonstrate basic linear algebra and computational properties of matrices through identifying linearity across vectors, using row reduction to calculate eigenvalues and eigenvectors. Please read the directions carefully, as we want to avoid submissions that are marked incorrect due to formatting mistakes. You will be using sympy, numpy, and scipy for this assignment. \n",
    "\n",
    "Ensure that the following code is present at the beginning of your assignment:\n",
    "- from sympy import *\n",
    "- import numpy as np\n",
    "- from numpy import linalg\n"
   ]
  },
  {
   "cell_type": "markdown",
   "metadata": {},
   "source": [
    "Please enter your name: \"Allison Yih\""
   ]
  },
  {
   "cell_type": "markdown",
   "metadata": {
    "deletable": false,
    "editable": false,
    "nbgrader": {
     "checksum": "e8233e474cb3078d25b2045117ffe093",
     "grade": false,
     "grade_id": "cell-2ec3375c714bff40",
     "locked": true,
     "schema_version": 1,
     "solution": false
    }
   },
   "source": [
    "## Part 1: Linear (In)dependence\n"
   ]
  },
  {
   "cell_type": "markdown",
   "metadata": {
    "deletable": false,
    "editable": false,
    "nbgrader": {
     "checksum": "d0a24edfe2561dbc8290c446eee91814",
     "grade": false,
     "grade_id": "cell-34ab2f1da94f850b",
     "locked": true,
     "schema_version": 1,
     "solution": false
    }
   },
   "source": [
    "<b>1.0</b> In this section, we will be determining if a set of vectors are linearly independent (if they are not, then they are linearly dependent). Below you will be asked to write a function to decide if 2, 3, or 4 inputed vectors in $\\mathbf{R}^3$ are linearly independent.  \n",
    "\n",
    "\n",
    "    \n"
   ]
  },
  {
   "cell_type": "code",
   "execution_count": 2,
   "metadata": {
    "deletable": false,
    "editable": false,
    "nbgrader": {
     "checksum": "ef115a907043a1d77932d85c9d027d69",
     "grade": false,
     "grade_id": "cell-91d40d41fc3261a7",
     "locked": true,
     "schema_version": 1,
     "solution": false
    }
   },
   "outputs": [],
   "source": [
    "from sympy import *\n",
    "import numpy as np\n",
    "from scipy import linalg\n",
    "from numpy import linalg\n",
    "import pandas as pd\n",
    "from sklearn.decomposition import PCA\n",
    "import matplotlib.pyplot as plt\n",
    "\n",
    "Senate = pd.read_csv('assets/senate.txt')\n",
    "RB = pd.read_csv('assets/red_blue.txt', ' ')"
   ]
  },
  {
   "cell_type": "code",
   "execution_count": 3,
   "metadata": {
    "deletable": false,
    "editable": false,
    "nbgrader": {
     "checksum": "df64a5c8f177e4c5112cb34af1350d08",
     "grade": false,
     "grade_id": "cell-a75b03836816e39c",
     "locked": true,
     "schema_version": 1,
     "solution": false
    }
   },
   "outputs": [],
   "source": [
    "#uncomment the below line to view snippet of txt file\n",
    "#Senate.head()\n",
    "#RB.head()"
   ]
  },
  {
   "cell_type": "markdown",
   "metadata": {
    "deletable": false,
    "editable": false,
    "nbgrader": {
     "checksum": "e5e6854b6144e59b3ffe2609c80ea243",
     "grade": false,
     "grade_id": "cell-1b3452e8f5584c8a",
     "locked": true,
     "schema_version": 1,
     "solution": false
    }
   },
   "source": [
    "<strong>1.1</strong> \\[2 pt\\] Impliment the function Indy2Vec that takes in two 3 dimentional vectors each represented as an array and tells whether they are linearly independent.\n"
   ]
  },
  {
   "cell_type": "code",
   "execution_count": 4,
   "metadata": {
    "deletable": false,
    "nbgrader": {
     "checksum": "b6c0b10d230805049576022bfe8b0716",
     "grade": false,
     "grade_id": "cell-411ec698d9ae862d",
     "locked": false,
     "schema_version": 1,
     "solution": true
    }
   },
   "outputs": [],
   "source": [
    "def Indy2Vec(v1, v2):\n",
    "    _, i = Matrix(np.array([v1,v2])).T.rref()\n",
    "    if len(i) == 2:\n",
    "        return True\n",
    "    else:\n",
    "        return False\n",
    "# YOUR CODE HERE\n",
    "#raise NotImplementedError()\n"
   ]
  },
  {
   "cell_type": "code",
   "execution_count": 5,
   "metadata": {
    "deletable": false,
    "editable": false,
    "nbgrader": {
     "checksum": "902f227a5075fac2d092d32c4baf0129",
     "grade": true,
     "grade_id": "cell-45a28a1ab4ac003c",
     "locked": true,
     "points": 2,
     "schema_version": 1,
     "solution": false
    }
   },
   "outputs": [],
   "source": [
    "v1 = np.array([0, 5, 0])\n",
    "v2 = np.array([0, -10, 0])\n",
    "v3 = np.array([1, 2, 3])\n",
    "v4 = np.array([-2, -4, -6])\n",
    "assert Indy2Vec(v1, v2) == False, \"Problem 1.1, Your code said that two linearly dependent vectors were independent\"\n",
    "assert Indy2Vec(v3, v4) == False, \"Problem 1.1, Your code said that two linearly dependent vectors were independent\"\n",
    "assert Indy2Vec(v1, v3) == True, \"Problem 1.1, Your code said that two linearly independent vectors were dependent\"\n",
    "assert Indy2Vec(v2, v3) == True, \"Problem 1.1, Your code said that two linearly independent vectors were dependent\""
   ]
  },
  {
   "cell_type": "markdown",
   "metadata": {
    "deletable": false,
    "editable": false,
    "nbgrader": {
     "checksum": "fbe72fd0dee166cf518ca6ee8ae8c0f9",
     "grade": false,
     "grade_id": "cell-d8dee39f31ad0c14",
     "locked": true,
     "schema_version": 1,
     "solution": false
    }
   },
   "source": [
    "<strong>1.2</strong> \\[2 pt\\] Impliment the function Indy2Vec that takes in three 3 dimentional vectors each represented as an array and tells whether they are linearly independent."
   ]
  },
  {
   "cell_type": "code",
   "execution_count": 6,
   "metadata": {
    "deletable": false,
    "nbgrader": {
     "checksum": "462648ea46b3dc7cb9cd97e1941f9800",
     "grade": false,
     "grade_id": "cell-9437cf7256c37d72",
     "locked": false,
     "schema_version": 1,
     "solution": true
    }
   },
   "outputs": [],
   "source": [
    "def Indy3Vec(v1, v2, v3):\n",
    "    if Matrix(np.array([v1,v2,v3])).det() != 0:\n",
    "        return True\n",
    "    else:\n",
    "        return False\n",
    "# YOUR CODE HERE\n",
    "#raise NotImplementedError()\n"
   ]
  },
  {
   "cell_type": "code",
   "execution_count": 7,
   "metadata": {
    "deletable": false,
    "editable": false,
    "nbgrader": {
     "checksum": "27d221a7de42aceb32c4833275313efd",
     "grade": true,
     "grade_id": "cell-158e70c4cabaca4d",
     "locked": true,
     "points": 2,
     "schema_version": 1,
     "solution": false
    }
   },
   "outputs": [],
   "source": [
    "v1=np.array([-1,3,4])\n",
    "v2=np.array([6,-2,9])\n",
    "v3=np.array([3,8,5]) \n",
    "\n",
    "assert Indy3Vec(v1, v2, v3) == True, \"Problem 1.2, Your code said that two linearly independent vectors were dependent\""
   ]
  },
  {
   "cell_type": "markdown",
   "metadata": {
    "deletable": false,
    "editable": false,
    "nbgrader": {
     "checksum": "79267a97b8574487d1ec5b8f889864cc",
     "grade": false,
     "grade_id": "cell-ce5dcd32393db2e4",
     "locked": true,
     "schema_version": 1,
     "solution": false
    }
   },
   "source": [
    "<strong>1.3</strong> \\[1 pt\\] Impliment the function Indy4Vec that takes in four 3 dimentional vectors each represented as an array and tells whether they are linearly independent."
   ]
  },
  {
   "cell_type": "code",
   "execution_count": 8,
   "metadata": {
    "deletable": false,
    "nbgrader": {
     "checksum": "8968c0ae2b8b86de37944cc442adb08c",
     "grade": false,
     "grade_id": "cell-d68d4ff3c19a01a9",
     "locked": false,
     "schema_version": 1,
     "solution": true
    }
   },
   "outputs": [],
   "source": [
    "def Indy4Vec(v1, v2, v3, v4):\n",
    "        return False #max amount of linearly ind vectors for 3d is 3\n",
    "    \n",
    "# YOUR CODE HERE\n",
    "#raise NotImplementedError()"
   ]
  },
  {
   "cell_type": "code",
   "execution_count": 9,
   "metadata": {
    "deletable": false,
    "editable": false,
    "nbgrader": {
     "checksum": "41650b8b6c936021e3cd8c5240c53901",
     "grade": true,
     "grade_id": "cell-1b83b01be1cc2c58",
     "locked": true,
     "points": 1,
     "schema_version": 1,
     "solution": false
    }
   },
   "outputs": [],
   "source": [
    "v1=np.array([-1,3,4])\n",
    "v2=np.array([6,-2,9])\n",
    "v3=np.array([3,8,5])\n",
    "v4=np.array([5,6,7])\n",
    "\n",
    "\n",
    "assert Indy4Vec(v1, v2, v3, v4) == False, \"Problem 1.3, Your code said that two linearly dependent vectors were independent\""
   ]
  },
  {
   "cell_type": "markdown",
   "metadata": {
    "deletable": false,
    "editable": false,
    "nbgrader": {
     "checksum": "6a477fc10d8ffea45fadcbbcb34c578c",
     "grade": false,
     "grade_id": "cell-ce5dcd323933b2c5",
     "locked": true,
     "schema_version": 1,
     "solution": false
    }
   },
   "source": [
    "<strong>1.4</strong> \\[2 pt\\] Impliment the function ThreeVec that takes in three 3 dimentional vectors each represented as an array,stacks the arrays vertically (each array is a row in a matrix), and returns a list in which the first element is the rank of the matrix, the second element is the rank of its transpose, the third element is its determinant rounded to two decimal places, the fourth element is the first element of its inverse rounded to two decimal places if its inverse exists and is the string \"no inverse\" if it does not exist.\n",
    "\n",
    "\n",
    "\n"
   ]
  },
  {
   "cell_type": "code",
   "execution_count": 10,
   "metadata": {
    "deletable": false,
    "nbgrader": {
     "checksum": "f30150c5bffe66c9ec0005c451874cb9",
     "grade": false,
     "grade_id": "cell-d68d4ff3c19a01b8",
     "locked": false,
     "schema_version": 1,
     "solution": true
    }
   },
   "outputs": [],
   "source": [
    "def get_inv(matrix):\n",
    "    try:\n",
    "        if np.allclose(np.dot(matrix, np.linalg.inv(matrix)), np.eye(3)) ==  True:\n",
    "            return round(np.linalg.inv(matrix)[0][0],2) \n",
    "        else:\n",
    "            return \"no inverse\"\n",
    "    except np.linalg.LinAlgError:\n",
    "        return \"no inverse\"\n",
    "    \n",
    "def ThreeVec(v1, v2, v3):\n",
    "    matrix = np.array([v1,v2,v3])\n",
    "    res = [np.linalg.matrix_rank(matrix), np.linalg.matrix_rank(matrix.T), round(np.linalg.det(matrix), 2), get_inv(matrix)]\n",
    "    #YOUR CODE HERE\n",
    "    return res\n",
    "    \n",
    "# YOUR CODE HERE\n",
    "#raise NotImplementedError()\n"
   ]
  },
  {
   "cell_type": "code",
   "execution_count": 12,
   "metadata": {
    "deletable": false,
    "editable": false,
    "nbgrader": {
     "checksum": "a0c49744387eea547c6cff93d72cdb42",
     "grade": true,
     "grade_id": "cell-1b83b01be1cc2c59",
     "locked": true,
     "points": 2,
     "schema_version": 1,
     "solution": false
    }
   },
   "outputs": [],
   "source": [
    "v1=np.array([10,4.4,13])\n",
    "v2=np.array([-5,-3.1,4])\n",
    "v3=np.array([15,5.7,30])\n",
    "\n",
    "\n",
    "\n",
    "assert(ThreeVec(v1, v2, v3) == [2, 2, 0.0, 'no inverse']), \"Problem 1.4, Your function does not compute the example correctly.\"\n",
    "\n",
    "\n",
    "\n",
    "\n",
    "\n",
    "\n",
    "\n",
    "\n",
    "\n"
   ]
  },
  {
   "cell_type": "markdown",
   "metadata": {
    "deletable": false,
    "editable": false,
    "nbgrader": {
     "checksum": "f48847c7647a3eb6c28eceec54bae0f0",
     "grade": false,
     "grade_id": "cell-491353b73a7996d6",
     "locked": true,
     "schema_version": 1,
     "solution": false
    }
   },
   "source": [
    "<strong>1.5</strong> [3 pt] Given a matrix $A$ (as an np.array), return a vector $v$ as an np.array with shape $(3, )$ in a way that depends on the injective, surjective, and bijective properties of $A$.  \n",
    "\n",
    "If $A$ it is bijective, return a vector $v$ such that $Av=\\left(\\begin{array}{c} 1 \\\\ 2 \\\\ 1 \\end{array} \\right)$. \n",
    "\n",
    "If $A$ is not bijective because it is not injective, return a vector $v$ (that does not equal $\\left(\\begin{array}{c} 1 \\\\ 1 \\\\ 1 \\end{array} \\right)$) such that $Av= A\\left(\\begin{array}{c} 1 \\\\ 1 \\\\ 1 \\end{array} \\right)$. \n",
    "\n",
    "If $A$ is not bijective because it is not  surjective, return a vector $v$ where the first two coordinate of $v$ are 1 and $v= Ax$ for some vector $x$.  (E.g. $v = \\left(\\begin{array}{c} 1 \\\\ 1 \\\\ z \\end{array} \\right)$ for the correct value of $z$.)\n",
    "\n",
    "Note that for this problem $A$ will always either be surjective or injective.  \n",
    "\n",
    "\n"
   ]
  },
  {
   "cell_type": "markdown",
   "metadata": {
    "deletable": false,
    "editable": false,
    "nbgrader": {
     "checksum": "a7787925372a1eb8a2d0553a0a5766fe",
     "grade": false,
     "grade_id": "cell-2e9331963645ff57",
     "locked": true,
     "schema_version": 1,
     "solution": false
    }
   },
   "source": [
    "(a) A= np.array([[1,2,3],[2,1,1]])"
   ]
  },
  {
   "cell_type": "code",
   "execution_count": 55,
   "metadata": {
    "deletable": false,
    "nbgrader": {
     "checksum": "1bfda33c344ce7378c36ba2bc1d171f7",
     "grade": false,
     "grade_id": "cell-8a68552e1d4594c1",
     "locked": false,
     "schema_version": 1,
     "solution": true
    }
   },
   "outputs": [],
   "source": [
    "#A= np.array([[1,2,3],[2,1,1]])  #not bijective + injective\n",
    "#np.dot(A, np.array([1,1,1])) [A] x [1,1,1] = [6,4]\n",
    "v= np.array([4/3,-2/3,2])\n",
    "#np.dot(A,v)\n",
    "#YOUR CODE HERE\n",
    "\n",
    "# YOUR CODE HERE\n",
    "#raise NotImplementedError()"
   ]
  },
  {
   "cell_type": "code",
   "execution_count": 56,
   "metadata": {
    "deletable": false,
    "editable": false,
    "nbgrader": {
     "checksum": "8f186cdbc93dff530df643aefc97aa39",
     "grade": true,
     "grade_id": "cell-47dbc27cae300c5c",
     "locked": true,
     "points": 1,
     "schema_version": 1,
     "solution": false
    }
   },
   "outputs": [],
   "source": [
    "#hidden tests for problem 1.5(a) are within this cell"
   ]
  },
  {
   "cell_type": "markdown",
   "metadata": {
    "deletable": false,
    "editable": false,
    "nbgrader": {
     "checksum": "1e65c5bee65f2715bff53a737cc7650a",
     "grade": false,
     "grade_id": "cell-dbab8340b38ab693",
     "locked": true,
     "schema_version": 1,
     "solution": false
    }
   },
   "source": [
    "(b) A= np.array([[1,2],[3,4],[10,6]])"
   ]
  },
  {
   "cell_type": "code",
   "execution_count": 85,
   "metadata": {
    "deletable": false,
    "nbgrader": {
     "checksum": "1f3ec3043d81ae4ba4273c2746c3676f",
     "grade": false,
     "grade_id": "cell-37020c83f0c7c7fc",
     "locked": false,
     "schema_version": 1,
     "solution": true
    }
   },
   "outputs": [],
   "source": [
    "#A = np.array([[1,2],[3,4],[10,6]])   #not bijective + surjective\n",
    "v= np.array([1,1,-4])\n",
    "#YOUR CODE HERE\n",
    "\n",
    "# YOUR CODE HERE\n",
    "#raise NotImplementedError()"
   ]
  },
  {
   "cell_type": "code",
   "execution_count": 86,
   "metadata": {
    "deletable": false,
    "editable": false,
    "nbgrader": {
     "checksum": "d9b073d418c476a9d2caeb2037175651",
     "grade": true,
     "grade_id": "cell-4249336ac3fddd7d",
     "locked": true,
     "points": 1,
     "schema_version": 1,
     "solution": false
    }
   },
   "outputs": [],
   "source": [
    "#hidden tests for problem 1.5(b) are within this cell"
   ]
  },
  {
   "cell_type": "markdown",
   "metadata": {
    "deletable": false,
    "editable": false,
    "nbgrader": {
     "checksum": "945428e5f73b0cda8357ac49f020c4a4",
     "grade": false,
     "grade_id": "cell-2e36a7e831e2d0cc",
     "locked": true,
     "schema_version": 1,
     "solution": false
    }
   },
   "source": [
    "(c) A= np.array([[1,2,3],[3,4,5],[4,10,6]])"
   ]
  },
  {
   "cell_type": "code",
   "execution_count": 87,
   "metadata": {
    "deletable": false,
    "nbgrader": {
     "checksum": "03de4b07249f229168b7a05d4a604995",
     "grade": false,
     "grade_id": "cell-13a86a9d6fef18b1",
     "locked": false,
     "schema_version": 1,
     "solution": true
    }
   },
   "outputs": [
    {
     "data": {
      "text/plain": [
       "array([ 0.4, -0.3,  0.4])"
      ]
     },
     "execution_count": 87,
     "metadata": {},
     "output_type": "execute_result"
    }
   ],
   "source": [
    "A = np.array([[1,2,3],[3,4,5],[4,10,6]])  #bijective\n",
    "b = np.array([1,2,1])\n",
    "v = np.linalg.solve(A,b)\n",
    "v\n",
    "\n",
    "#x = np.array([0,-1,1])\n",
    "#np.dot(A,x)\n",
    "\n",
    "# YOUR CODE HERE\n",
    "#raise NotImplementedError()"
   ]
  },
  {
   "cell_type": "code",
   "execution_count": 88,
   "metadata": {
    "deletable": false,
    "editable": false,
    "nbgrader": {
     "checksum": "598161a5d21d2fae9324f4bbae7f12d9",
     "grade": true,
     "grade_id": "cell-5a1038ca25889e0b",
     "locked": true,
     "points": 1,
     "schema_version": 1,
     "solution": false
    }
   },
   "outputs": [],
   "source": [
    "#hidden tests for problem 1.5(c) are within this cell"
   ]
  },
  {
   "cell_type": "markdown",
   "metadata": {
    "deletable": false,
    "editable": false,
    "nbgrader": {
     "checksum": "f5397ac573f8e4b248539167e6d1a9c9",
     "grade": false,
     "grade_id": "cell-3d39e13d4a7cc44b",
     "locked": true,
     "schema_version": 1,
     "solution": false
    }
   },
   "source": [
    "## Part 2: Eigenvalue/ Eigenvector\n"
   ]
  },
  {
   "cell_type": "markdown",
   "metadata": {
    "deletable": false,
    "editable": false,
    "nbgrader": {
     "checksum": "df04e56fb998e34ca61238cef92c5669",
     "grade": false,
     "grade_id": "cell-40704c107a135552",
     "locked": true,
     "schema_version": 1,
     "solution": false
    }
   },
   "source": [
    "<strong>2.1</strong> \\[1 pt\\] What is the eigenvalue and eigenvectors of the matrix[[1,3],[2,5]]? Please store the eigenvalues in the variable called <strong>vals</strong>. The datatype for vals should be a numpy array.\n",
    "\n"
   ]
  },
  {
   "cell_type": "code",
   "execution_count": 89,
   "metadata": {
    "deletable": false,
    "nbgrader": {
     "checksum": "16305e8b3dbe5512261883e62ae4e3a8",
     "grade": false,
     "grade_id": "cell-571f59fab4ac61a1",
     "locked": false,
     "schema_version": 1,
     "solution": true
    }
   },
   "outputs": [],
   "source": [
    "v1= np.array([[1,3],[2,5]])\n",
    "vals= np.linalg.eigvals(v1)\n",
    "# YOUR CODE HERE\n",
    "#raise NotImplementedError()"
   ]
  },
  {
   "cell_type": "code",
   "execution_count": 90,
   "metadata": {
    "deletable": false,
    "editable": false,
    "nbgrader": {
     "checksum": "324c3e2101c4d4fecd90356690b0dac0",
     "grade": true,
     "grade_id": "cell-174c290441138ebc",
     "locked": true,
     "points": 1,
     "schema_version": 1,
     "solution": false
    }
   },
   "outputs": [],
   "source": [
    "#hidden tests for problem 2.1 are within this cell"
   ]
  },
  {
   "cell_type": "markdown",
   "metadata": {},
   "source": [
    "<strong>2.2</strong> \\[1 pt\\] What are the eigenvectors of the matrix [[1,3],[2,5]]? Please store the eigenvectors in a variable called <strong>vecs</strong>. The datatype for vals should be an array.\n",
    "\n"
   ]
  },
  {
   "cell_type": "code",
   "execution_count": 91,
   "metadata": {
    "deletable": false,
    "nbgrader": {
     "checksum": "025bea56b5c4864d56246aa645d3ebbf",
     "grade": false,
     "grade_id": "cell-ae7fca74e80f42d3",
     "locked": false,
     "schema_version": 1,
     "solution": true
    }
   },
   "outputs": [],
   "source": [
    "_,vecs= np.linalg.eig(v1)\n",
    "# YOUR CODE HERE\n",
    "#raise NotImplementedError()"
   ]
  },
  {
   "cell_type": "code",
   "execution_count": 92,
   "metadata": {
    "deletable": false,
    "editable": false,
    "nbgrader": {
     "checksum": "9ba0515a9e16e22610634c0621dcc84d",
     "grade": true,
     "grade_id": "cell-c9c31cdf9a7b77ad",
     "locked": true,
     "points": 1,
     "schema_version": 1,
     "solution": false
    }
   },
   "outputs": [],
   "source": [
    "#hidden tests for problem 2.2 are within this cell"
   ]
  },
  {
   "cell_type": "markdown",
   "metadata": {
    "deletable": false,
    "editable": false,
    "nbgrader": {
     "checksum": "08d9d962857f8705c1cc6b2438e717aa",
     "grade": false,
     "grade_id": "cell-ce5dcd323933b2e5",
     "locked": true,
     "schema_version": 1,
     "solution": false
    }
   },
   "source": [
    "<strong>2.3</strong> \\[2 pt\\] Find a 2 x 2 matrix with integer entries that has 10 and 25 as eigenvalues with eigen vectors $(1, 4)$ and $(1, -1)$ respectively.  Record it as an array in $ANS23$ with integer entries.  Hint: Put variables for entries in a 2 x 2 array, write out the equations that must be satisfied, and solve."
   ]
  },
  {
   "cell_type": "code",
   "execution_count": 95,
   "metadata": {
    "deletable": false,
    "nbgrader": {
     "checksum": "1e8eb8b492349db1b2f39d845df39f29",
     "grade": false,
     "grade_id": "cell-d68d4ff3c19a01b7",
     "locked": false,
     "schema_version": 1,
     "solution": true
    }
   },
   "outputs": [],
   "source": [
    "ANS23 = np.array([[22,-3],[-12,13]])\n",
    "    \n",
    "\n",
    "# YOUR CODE HERE\n",
    "#raise NotImplementedError()\n"
   ]
  },
  {
   "cell_type": "code",
   "execution_count": 96,
   "metadata": {
    "deletable": false,
    "editable": false,
    "nbgrader": {
     "checksum": "5a3d8beb668c2cce863f921ed996fdce",
     "grade": true,
     "grade_id": "cell-1b83b01be1cc2c69",
     "locked": true,
     "points": 2,
     "schema_version": 1,
     "solution": false
    }
   },
   "outputs": [],
   "source": [
    "assert type(ANS23) == np.ndarray, \"Problem 2.3, Your answer should be an array\"\n",
    "assert ANS23.shape == (2, 2), \"Problem 2.3, Your array should be dimension 2 x 2\"\n",
    "\n",
    "assert np.isclose(ANS23 @ np.array([1, 4]), np.array([10, 40])).all(), \"Problem 2.3, Your array should have [1, 4] as an eigenvector with eigenvalue 10\"\n",
    "\n",
    "\n",
    "\n"
   ]
  },
  {
   "cell_type": "markdown",
   "metadata": {
    "deletable": false,
    "editable": false,
    "nbgrader": {
     "checksum": "b06d55e1c29f85d46a4cc5ae2fdce8e8",
     "grade": false,
     "grade_id": "cell-e444000ecd9d564f",
     "locked": true,
     "schema_version": 1,
     "solution": false
    }
   },
   "source": [
    "2.4 [2 pt] Use the txt files loaded at the start of this assignment to find the principal components of the Senate dataset and to make a scatterplot with PC1 on the x-axis and PC2 on the y-axis (i.e. a senator's location on the scatterplot is his/her (PC1 loading, PC2 loading)), and where each senator's dot is the color of his political party. "
   ]
  },
  {
   "cell_type": "code",
   "execution_count": 122,
   "metadata": {
    "deletable": false,
    "nbgrader": {
     "checksum": "dc57f1089038eb070a7370a3565c568d",
     "grade": false,
     "grade_id": "cell-7083c1546fc06d26",
     "locked": false,
     "schema_version": 1,
     "solution": true
    }
   },
   "outputs": [],
   "source": [
    "from sklearn.preprocessing import StandardScaler\n",
    "from sklearn.decomposition import PCA\n",
    "#Use \"iloc\" to remove the first three columns from the Senate dataset\n",
    "Senate = pd.read_csv('assets/senate.txt')\n",
    "Senate = Senate.iloc[:,3:]\n",
    "res = PCA(n_components = 5)\n",
    "#Use the sklearn \"PCA\" package loaded at the start of this assignment to find the first 5 eigenvectors and eigenvalues\n",
    "pca_senators= res.fit_transform(Senate)\n",
    "eig_vals = res.explained_variance_\n",
    "eig_vecs = res.components_\n",
    "#eig_vecs = np.linalg.eig(np.cov(pca_senators.T))[1]\n",
    "# YOUR CODE HERE\n",
    "#raise NotImplementedError()"
   ]
  },
  {
   "cell_type": "code",
   "execution_count": 123,
   "metadata": {
    "deletable": false,
    "editable": false,
    "nbgrader": {
     "checksum": "81c5d76f26c1946209666204afbcaae4",
     "grade": true,
     "grade_id": "cell-7fdaebc51aded0de",
     "locked": true,
     "points": 2,
     "schema_version": 1,
     "solution": false
    }
   },
   "outputs": [],
   "source": [
    "#hidden tests for problem 2.4 are within this cell"
   ]
  },
  {
   "cell_type": "code",
   "execution_count": 124,
   "metadata": {
    "deletable": false,
    "editable": false,
    "nbgrader": {
     "checksum": "129195d1ec4994925e1b1a6f63724ee0",
     "grade": false,
     "grade_id": "cell-b834e91d7d38a605",
     "locked": true,
     "schema_version": 1,
     "solution": false
    }
   },
   "outputs": [
    {
     "data": {
      "image/png": "[encoded data removed]",
      "text/plain": [
       "<Figure size 432x288 with 1 Axes>"
      ]
     },
     "metadata": {
      "needs_background": "light"
     },
     "output_type": "display_data"
    }
   ],
   "source": [
    "#run this cell to make a scatter plot using your results\n",
    "plt.scatter(res.components_[0], res.components_[1], c=RB['Color'])\n",
    "plt.xlabel(\"PC1\")\n",
    "plt.ylabel(\"PC2\")\n",
    "plt.annotate(\"Nelson (NE)\", (-0.009, -0.078))\n",
    "plt.annotate(\"Chafee (RI)\", (0.035, -0.083))\n",
    "plt.annotate(\"McConnell (KY)\", (-0.159, -0.112))\n",
    "plt.annotate(\"Kennedy (MA)\", (0.145, -0.112))\n",
    "plt.annotate(\"Menedez (NJ)\", (0.022, -0.004))\n",
    "plt.annotate(\"Collins (ME)\", (-0.015, -0.118))\n",
    "plt.annotate(\"Obama (IL)\", (0.065, -0.013))\n",
    "plt.annotate(\"Burr (NC)\", (-0.063, -0.054))\n",
    "plt.annotate(\"Bingaman (TX)\", (0.098, -0.142))\n",
    "plt.xlim(-0.2, 0.2)\n",
    "plt.show()"
   ]
  },
  {
   "cell_type": "markdown",
   "metadata": {
    "deletable": false,
    "editable": false,
    "nbgrader": {
     "checksum": "baa173f91504a40c93a7655ef9a905d3",
     "grade": false,
     "grade_id": "cell-9cd4e8d2f225fafd",
     "locked": true,
     "schema_version": 1,
     "solution": false
    }
   },
   "source": [
    "## Part 3: Composition \n"
   ]
  },
  {
   "cell_type": "markdown",
   "metadata": {
    "deletable": false,
    "editable": false,
    "nbgrader": {
     "checksum": "4d362bc5ffa395158863024f1a23b0f4",
     "grade": false,
     "grade_id": "cell-f0196a1e1ab90e75",
     "locked": true,
     "schema_version": 1,
     "solution": false
    }
   },
   "source": [
    "<strong>3.1</strong> \\[1 pt\\] Assume f(x)= 3x+6 and g(y)= 2y+1, what is the reduced equation of h(x)=g * f(x)=g(f(x))? Store your answer in the variable <strong>compo</strong> as a string type that is a valid python formula.  For example, \"5 * x ** 2 + 4\".  Note that neither \"5 x ** 2 + 4\" nor \"\"5 * x ^ 2 + 4\" are valid python formulas."
   ]
  },
  {
   "cell_type": "code",
   "execution_count": 125,
   "metadata": {
    "deletable": false,
    "nbgrader": {
     "checksum": "216a61b0d4d2634928a988b3dd04004b",
     "grade": false,
     "grade_id": "cell-81395b5bd2a197fb",
     "locked": false,
     "schema_version": 1,
     "solution": true
    }
   },
   "outputs": [],
   "source": [
    "compo=\"6*x + 13\"\n",
    "# YOUR CODE HERE\n",
    "#raise NotImplementedError()"
   ]
  },
  {
   "cell_type": "code",
   "execution_count": 126,
   "metadata": {
    "deletable": false,
    "editable": false,
    "nbgrader": {
     "checksum": "ab1988a91ec4eb69484250d75267e0bd",
     "grade": true,
     "grade_id": "cell-f797c1459bf93874",
     "locked": true,
     "points": 1,
     "schema_version": 1,
     "solution": false
    }
   },
   "outputs": [],
   "source": [
    "assert type(compo) == str, \"Problem 3.1, testing compo, type of value stored in variable does not match the expected type. Expecting String.\""
   ]
  },
  {
   "cell_type": "markdown",
   "metadata": {
    "deletable": false,
    "editable": false,
    "nbgrader": {
     "checksum": "81500b9d6c2a6f4024c7bc2ced1d791f",
     "grade": false,
     "grade_id": "cell-96318587904ad09d",
     "locked": true,
     "schema_version": 1,
     "solution": false
    }
   },
   "source": [
    "<strong>3.2</strong> \\[1 pt\\] Given x = 1, use the equation assigned to compo to solve. Store your answer in the variable <strong>compo1</strong> as an integer. "
   ]
  },
  {
   "cell_type": "code",
   "execution_count": 127,
   "metadata": {
    "deletable": false,
    "nbgrader": {
     "checksum": "ecd82c5ea467a83ea08fb1821be447c1",
     "grade": false,
     "grade_id": "cell-beb471e3c613b1ec",
     "locked": false,
     "schema_version": 1,
     "solution": true
    }
   },
   "outputs": [],
   "source": [
    "compo1=(6*1)+13\n",
    "# YOUR CODE HERE\n",
    "#raise NotImplementedError()"
   ]
  },
  {
   "cell_type": "code",
   "execution_count": 128,
   "metadata": {
    "deletable": false,
    "editable": false,
    "nbgrader": {
     "checksum": "03b56d9f1f4e4da15b52e07523d43748",
     "grade": true,
     "grade_id": "cell-850259d8a0f763ca",
     "locked": true,
     "points": 1,
     "schema_version": 1,
     "solution": false
    }
   },
   "outputs": [],
   "source": [
    "import numbers\n",
    "assert isinstance(compo1, numbers.Number), \"Problem 3.2, testing compo1, type of value stored in variable does not match the expected type. Expecting Integer.\""
   ]
  },
  {
   "cell_type": "markdown",
   "metadata": {
    "deletable": false,
    "editable": false,
    "nbgrader": {
     "checksum": "5fb7b535cdfead0c3954b5e5cd7b678a",
     "grade": false,
     "grade_id": "cell-10c31810a421b502",
     "locked": true,
     "schema_version": 1,
     "solution": false
    }
   },
   "source": [
    "## Part4: Linear Transformation "
   ]
  },
  {
   "cell_type": "markdown",
   "metadata": {
    "deletable": false,
    "editable": false,
    "nbgrader": {
     "checksum": "08ae96d45ecbf5461477b060950baf55",
     "grade": false,
     "grade_id": "cell-05f210a9b75f0951",
     "locked": true,
     "schema_version": 1,
     "solution": false
    }
   },
   "source": [
    "<strong>4.1</strong> \\[2 pt\\] Assume we have an function: $f(x, y, z) = x$<sup>2</sup>$yz/3+x\\sqrt{y}$+3z =10, is this function linear in x, y, or z?  For each variable, provide a string with a nonlinear term involving that variable or the empty string if none exists.  Again, report python executable strings.  For example, the equation might be written \"(x ** 2) * y * z/3 + x * np.sqrt(y) + z + 3z = 10\" in python"
   ]
  },
  {
   "cell_type": "code",
   "execution_count": 129,
   "metadata": {
    "deletable": false,
    "nbgrader": {
     "checksum": "4795369007a85417fa51dbf51e91e7b5",
     "grade": false,
     "grade_id": "cell-7cd69aa0c7535f5d",
     "locked": false,
     "schema_version": 1,
     "solution": true
    }
   },
   "outputs": [],
   "source": [
    "non_linear_X = \"((x**2)*y*z)/3\"\n",
    "non_linear_Y = \"x + np.sqrt(y)\"\n",
    "non_linear_Z = \"\"\n",
    "# YOUR CODE HERE\n",
    "#raise NotImplementedError()"
   ]
  },
  {
   "cell_type": "code",
   "execution_count": 130,
   "metadata": {
    "deletable": false,
    "editable": false,
    "nbgrader": {
     "checksum": "2e6c7c4bc810ae206d61c1264f827903",
     "grade": true,
     "grade_id": "cell-4e6661b95f6581b7",
     "locked": true,
     "points": 1,
     "schema_version": 1,
     "solution": false
    }
   },
   "outputs": [],
   "source": [
    "#hidden tests for problem 4.1 are within this cell"
   ]
  },
  {
   "cell_type": "code",
   "execution_count": null,
   "metadata": {},
   "outputs": [],
   "source": []
  }
 ],
 "metadata": {
  "coursera": {
   "schema_names": [
    "mads_math_methods_for_data_science_v3_assignment2"
   ]
  },
  "kernelspec": {
   "display_name": "Python 3",
   "language": "python",
   "name": "python3"
  },
  "language_info": {
   "codemirror_mode": {
    "name": "ipython",
    "version": 3
   },
   "file_extension": ".py",
   "mimetype": "text/x-python",
   "name": "python",
   "nbconvert_exporter": "python",
   "pygments_lexer": "ipython3",
   "version": "3.7.3"
  }
 },
 "nbformat": 4,
 "nbformat_minor": 2
}
